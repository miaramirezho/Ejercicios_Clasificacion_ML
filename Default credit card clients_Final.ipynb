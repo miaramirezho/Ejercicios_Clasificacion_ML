{
 "cells": [
  {
   "cell_type": "markdown",
   "metadata": {},
   "source": [
    "# Incumplimiento de los clientes de tarjetas de crédito\n",
    "\n",
    "**Shirley Bermudez Tirado, **\n",
    "**Milton Anderson Ramírez Hoyos**   \n",
    "Universidad Nacional de Colombia, Sede Medellín   \n",
    "Facultad de Minas   \n",
    "Medellín, Colombia\n",
    "\n",
    "---\n"
   ]
  },
  {
   "cell_type": "markdown",
   "metadata": {},
   "source": [
    "# Fuente de los datos\n",
    "\n",
    "https://archive.ics.uci.edu/ml/datasets/default+of+credit+card+clients \n",
    "Yeh, I. C., & Lien, C. H. (2009). The comparisons of data mining techniques for the predictive accuracy of probability of default of credit card clients. Expert Systems with Applications, 36(2), 2473-2480."
   ]
  },
  {
   "cell_type": "markdown",
   "metadata": {},
   "source": [
    "# Repositorio en Github"
   ]
  },
  {
   "cell_type": "markdown",
   "metadata": {},
   "source": [
    "https://github.com/miaramirezho/Ddefault-credit-card"
   ]
  },
  {
   "cell_type": "markdown",
   "metadata": {},
   "source": [
    "# Contenido\n",
    "\n",
    "1) **Definición del problema real** <br>\n",
    "2) **Definición del problema en términos de los datos**<br>\n",
    "3) **Exploración de los datos**<br>\n",
    "4) **Preparación de los datos**<br>\n",
    "5) **Entrenamiento de los modelos**<br>\n",
    "6) **Evaluación**<br>"
   ]
  },
  {
   "cell_type": "markdown",
   "metadata": {},
   "source": [
    "# 1) Definición del problema real"
   ]
  },
  {
   "cell_type": "markdown",
   "metadata": {},
   "source": [
    "Se tiene una base de datos en la cual se recopiló el comportamiento para determinadas variables de un grupo de clientes de tarjetas de créditos en Taiwán, adicionalmente se recopilaron las características principales de dichos clientes. La base de datos como tal es el resultado del esfuerzo realizado para predecir si un cliente pagará o no la próxima cuota de su tarjeta de crédito, con la probabilidad real de incumplimiento como la variable de respuesta (Y) y la probabilidad predictiva de incumplimiento como la variable independiente (X)."
   ]
  },
  {
   "cell_type": "markdown",
   "metadata": {},
   "source": [
    "# 2) Definición del problema en terminos de los datos"
   ]
  },
  {
   "cell_type": "markdown",
   "metadata": {},
   "source": [
    "Se cuenta con una muestra de 30000 ejemplos y 25 variables que describen las caracteristicas de los clientes y su comportamiento de pago en el tiempo.\n",
    "\n",
    "A continuaciòn se describen en su respectivo orden las variables que incluye el set de datos. Si bien en esta parte del texto se indicarà el nombre de las variables en español, se respetará el nombre original de las variables el cual viene en inglés, se hace la traducciòn para brindar mayor claridad al lector:\n",
    "\n",
    "* ID: Identificación del cliente\n",
    "* Monto otorgado: Valor del crédito adquirido\n",
    "* Sexo: 1 = hombre, 2 = mujer\n",
    "* Educación: Nivel de escolaridad 1 = escuela de postgrado, 2 = universidad, 3 = escuela secundaria, 4 = otros)\n",
    "* Estado civil: (1 = casado, 2 = soltero, 3 = otros)\n",
    "* Edad: (en años)\n",
    "* Pago 0 a Pago 5: Historial de pagos anteriores de abril a septiembre de 2005\n",
    "* Saldo 0 a Saldo 5: Saldo de la obligación crediticia de abril a septiembre de 2005\n",
    "* PagoAnt 0 a PagoAnt5: Importe del pago anterior de abril a septiembre de 2005\n",
    "* Incumplimiento en pago al siguiente mes : 1: se espera incumplimiento en el pago de la obligación, 0: e espera un pago a tiempo. \n",
    "\n",
    "Esta última será la variable clasificadora."
   ]
  },
  {
   "cell_type": "markdown",
   "metadata": {},
   "source": [
    "# 3) Exploración de los datos"
   ]
  },
  {
   "cell_type": "code",
   "execution_count": 1,
   "metadata": {},
   "outputs": [
    {
     "name": "stderr",
     "output_type": "stream",
     "text": [
      "Loading required package: lattice\n",
      "Loading required package: ggplot2\n",
      "\n",
      "Attaching package: 'ggplot2'\n",
      "\n",
      "The following objects are masked from 'package:psych':\n",
      "\n",
      "    %+%, alpha\n",
      "\n",
      "Loading required package: foreach\n",
      "Loading required package: iterators\n",
      "Loading required package: snow\n",
      "\n",
      "Attaching package: 'dplyr'\n",
      "\n",
      "The following objects are masked from 'package:stats':\n",
      "\n",
      "    filter, lag\n",
      "\n",
      "The following objects are masked from 'package:base':\n",
      "\n",
      "    intersect, setdiff, setequal, union\n",
      "\n"
     ]
    }
   ],
   "source": [
    "# Se cargan las librerías necesarias para el análisis\n",
    "\n",
    "library(class) # para el KNN\n",
    "library(psych)\n",
    "library(C50)\n",
    "library(gmodels)\n",
    "library(caret)\n",
    "library(doSNOW)\n",
    "library(dplyr)\n",
    "library(ggplot2)"
   ]
  },
  {
   "cell_type": "code",
   "execution_count": 2,
   "metadata": {
    "collapsed": true
   },
   "outputs": [],
   "source": [
    "# Código para paralelizar\n",
    "cl <- makeCluster(3, type = \"SOCK\")\n",
    "\n",
    "# Register cluster so that caret will know to train in parallel.\n",
    "registerDoSNOW(cl)"
   ]
  },
  {
   "cell_type": "code",
   "execution_count": 4,
   "metadata": {},
   "outputs": [
    {
     "name": "stdout",
     "output_type": "stream",
     "text": [
      "'data.frame':\t30000 obs. of  24 variables:\n",
      " $ LIMIT_BAL                 : int  20000 120000 90000 50000 50000 50000 500000 100000 140000 20000 ...\n",
      " $ SEX                       : Factor w/ 2 levels \"1\",\"2\": 2 2 2 2 1 1 1 2 2 1 ...\n",
      " $ EDUCATION                 : Factor w/ 7 levels \"0\",\"1\",\"2\",\"3\",..: 3 3 3 3 3 2 2 3 4 4 ...\n",
      " $ MARRIAGE                  : Factor w/ 4 levels \"0\",\"1\",\"2\",\"3\": 2 3 3 2 2 3 3 3 2 3 ...\n",
      " $ AGE                       : int  24 26 34 37 57 37 29 23 28 35 ...\n",
      " $ PAY_0                     : Factor w/ 11 levels \"-2\",\"-1\",\"0\",..: 5 2 3 3 2 3 3 3 3 1 ...\n",
      " $ PAY_2                     : Factor w/ 11 levels \"-2\",\"-1\",\"0\",..: 5 5 3 3 3 3 3 2 3 1 ...\n",
      " $ PAY_3                     : Factor w/ 11 levels \"-2\",\"-1\",\"0\",..: 2 3 3 3 2 3 3 2 5 1 ...\n",
      " $ PAY_4                     : Factor w/ 11 levels \"-2\",\"-1\",\"0\",..: 2 3 3 3 3 3 3 3 3 1 ...\n",
      " $ PAY_5                     : Factor w/ 10 levels \"-2\",\"-1\",\"0\",..: 1 3 3 3 3 3 3 3 3 2 ...\n",
      " $ PAY_6                     : Factor w/ 10 levels \"-2\",\"-1\",\"0\",..: 1 4 3 3 3 3 3 2 3 2 ...\n",
      " $ BILL_AMT1                 : int  3913 2682 29239 46990 8617 64400 367965 11876 11285 0 ...\n",
      " $ BILL_AMT2                 : int  3102 1725 14027 48233 5670 57069 412023 380 14096 0 ...\n",
      " $ BILL_AMT3                 : int  689 2682 13559 49291 35835 57608 445007 601 12108 0 ...\n",
      " $ BILL_AMT4                 : int  0 3272 14331 28314 20940 19394 542653 221 12211 0 ...\n",
      " $ BILL_AMT5                 : int  0 3455 14948 28959 19146 19619 483003 -159 11793 13007 ...\n",
      " $ BILL_AMT6                 : int  0 3261 15549 29547 19131 20024 473944 567 3719 13912 ...\n",
      " $ PAY_AMT1                  : int  0 0 1518 2000 2000 2500 55000 380 3329 0 ...\n",
      " $ PAY_AMT2                  : int  689 1000 1500 2019 36681 1815 40000 601 0 0 ...\n",
      " $ PAY_AMT3                  : int  0 1000 1000 1200 10000 657 38000 0 432 0 ...\n",
      " $ PAY_AMT4                  : int  0 1000 1000 1100 9000 1000 20239 581 1000 13007 ...\n",
      " $ PAY_AMT5                  : int  0 0 1000 1069 689 1000 13750 1687 1000 1122 ...\n",
      " $ PAY_AMT6                  : int  0 2000 5000 1000 679 800 13770 1542 1000 0 ...\n",
      " $ default.payment.next.month: Factor w/ 2 levels \"0\",\"1\": 2 2 1 1 1 1 1 1 1 1 ...\n"
     ]
    }
   ],
   "source": [
    "# Se lee el archivo y se convierten en factores las variables categoricas\n",
    "#filename = \"C:\\\\Users\\\\PROYECTOS_54\\\\Analitica\\\\default of credit card clients.csv\"\n",
    "data <- read.csv('default of credit card clients.csv', sep=';')\n",
    "data <- data[,2:25] # se elimina la variable ID que esta en la columna 1\n",
    "\n",
    "data$default.payment.next.month <- as.factor(data$default.payment.next.month)\n",
    "data$SEX <- as.factor(data$SEX)\n",
    "data$EDUCATION <- as.factor(data$EDUCATION)\n",
    "data$MARRIAGE <- as.factor(data$MARRIAGE)\n",
    "data$PAY_0 <- as.factor(data$PAY_0)\n",
    "data$PAY_2 <- as.factor(data$PAY_2)\n",
    "data$PAY_3 <- as.factor(data$PAY_3)\n",
    "data$PAY_4 <- as.factor(data$PAY_4)\n",
    "data$PAY_5 <- as.factor(data$PAY_5)\n",
    "data$PAY_6 <- as.factor(data$PAY_6)\n",
    "str(data)"
   ]
  },
  {
   "cell_type": "code",
   "execution_count": 5,
   "metadata": {
    "scrolled": true
   },
   "outputs": [
    {
     "data": {
      "text/html": [
       "<ol class=list-inline>\n",
       "\t<li>'LIMIT_BAL'</li>\n",
       "\t<li>'SEX'</li>\n",
       "\t<li>'EDUCATION'</li>\n",
       "\t<li>'MARRIAGE'</li>\n",
       "\t<li>'AGE'</li>\n",
       "\t<li>'PAY_0'</li>\n",
       "\t<li>'PAY_2'</li>\n",
       "\t<li>'PAY_3'</li>\n",
       "\t<li>'PAY_4'</li>\n",
       "\t<li>'PAY_5'</li>\n",
       "\t<li>'PAY_6'</li>\n",
       "\t<li>'BILL_AMT1'</li>\n",
       "\t<li>'BILL_AMT2'</li>\n",
       "\t<li>'BILL_AMT3'</li>\n",
       "\t<li>'BILL_AMT4'</li>\n",
       "\t<li>'BILL_AMT5'</li>\n",
       "\t<li>'BILL_AMT6'</li>\n",
       "\t<li>'PAY_AMT1'</li>\n",
       "\t<li>'PAY_AMT2'</li>\n",
       "\t<li>'PAY_AMT3'</li>\n",
       "\t<li>'PAY_AMT4'</li>\n",
       "\t<li>'PAY_AMT5'</li>\n",
       "\t<li>'PAY_AMT6'</li>\n",
       "\t<li>'default.payment.next.month'</li>\n",
       "</ol>\n"
      ],
      "text/latex": [
       "\\begin{enumerate*}\n",
       "\\item 'LIMIT\\_BAL'\n",
       "\\item 'SEX'\n",
       "\\item 'EDUCATION'\n",
       "\\item 'MARRIAGE'\n",
       "\\item 'AGE'\n",
       "\\item 'PAY\\_0'\n",
       "\\item 'PAY\\_2'\n",
       "\\item 'PAY\\_3'\n",
       "\\item 'PAY\\_4'\n",
       "\\item 'PAY\\_5'\n",
       "\\item 'PAY\\_6'\n",
       "\\item 'BILL\\_AMT1'\n",
       "\\item 'BILL\\_AMT2'\n",
       "\\item 'BILL\\_AMT3'\n",
       "\\item 'BILL\\_AMT4'\n",
       "\\item 'BILL\\_AMT5'\n",
       "\\item 'BILL\\_AMT6'\n",
       "\\item 'PAY\\_AMT1'\n",
       "\\item 'PAY\\_AMT2'\n",
       "\\item 'PAY\\_AMT3'\n",
       "\\item 'PAY\\_AMT4'\n",
       "\\item 'PAY\\_AMT5'\n",
       "\\item 'PAY\\_AMT6'\n",
       "\\item 'default.payment.next.month'\n",
       "\\end{enumerate*}\n"
      ],
      "text/markdown": [
       "1. 'LIMIT_BAL'\n",
       "2. 'SEX'\n",
       "3. 'EDUCATION'\n",
       "4. 'MARRIAGE'\n",
       "5. 'AGE'\n",
       "6. 'PAY_0'\n",
       "7. 'PAY_2'\n",
       "8. 'PAY_3'\n",
       "9. 'PAY_4'\n",
       "10. 'PAY_5'\n",
       "11. 'PAY_6'\n",
       "12. 'BILL_AMT1'\n",
       "13. 'BILL_AMT2'\n",
       "14. 'BILL_AMT3'\n",
       "15. 'BILL_AMT4'\n",
       "16. 'BILL_AMT5'\n",
       "17. 'BILL_AMT6'\n",
       "18. 'PAY_AMT1'\n",
       "19. 'PAY_AMT2'\n",
       "20. 'PAY_AMT3'\n",
       "21. 'PAY_AMT4'\n",
       "22. 'PAY_AMT5'\n",
       "23. 'PAY_AMT6'\n",
       "24. 'default.payment.next.month'\n",
       "\n",
       "\n"
      ],
      "text/plain": [
       " [1] \"LIMIT_BAL\"                  \"SEX\"                       \n",
       " [3] \"EDUCATION\"                  \"MARRIAGE\"                  \n",
       " [5] \"AGE\"                        \"PAY_0\"                     \n",
       " [7] \"PAY_2\"                      \"PAY_3\"                     \n",
       " [9] \"PAY_4\"                      \"PAY_5\"                     \n",
       "[11] \"PAY_6\"                      \"BILL_AMT1\"                 \n",
       "[13] \"BILL_AMT2\"                  \"BILL_AMT3\"                 \n",
       "[15] \"BILL_AMT4\"                  \"BILL_AMT5\"                 \n",
       "[17] \"BILL_AMT6\"                  \"PAY_AMT1\"                  \n",
       "[19] \"PAY_AMT2\"                   \"PAY_AMT3\"                  \n",
       "[21] \"PAY_AMT4\"                   \"PAY_AMT5\"                  \n",
       "[23] \"PAY_AMT6\"                   \"default.payment.next.month\""
      ]
     },
     "metadata": {},
     "output_type": "display_data"
    }
   ],
   "source": [
    "names(data)"
   ]
  },
  {
   "cell_type": "code",
   "execution_count": 6,
   "metadata": {},
   "outputs": [
    {
     "data": {
      "text/html": [
       "<table>\n",
       "<thead><tr><th scope=col>LIMIT_BAL</th><th scope=col>SEX</th><th scope=col>EDUCATION</th><th scope=col>MARRIAGE</th><th scope=col>AGE</th><th scope=col>PAY_0</th><th scope=col>PAY_2</th><th scope=col>PAY_3</th><th scope=col>PAY_4</th><th scope=col>PAY_5</th><th scope=col>...</th><th scope=col>BILL_AMT4</th><th scope=col>BILL_AMT5</th><th scope=col>BILL_AMT6</th><th scope=col>PAY_AMT1</th><th scope=col>PAY_AMT2</th><th scope=col>PAY_AMT3</th><th scope=col>PAY_AMT4</th><th scope=col>PAY_AMT5</th><th scope=col>PAY_AMT6</th><th scope=col>default.payment.next.month</th></tr></thead>\n",
       "<tbody>\n",
       "\t<tr><td> 20000</td><td>2     </td><td>2     </td><td>1     </td><td>24    </td><td>2     </td><td>2     </td><td>-1    </td><td>-1    </td><td>-2    </td><td>...   </td><td>    0 </td><td>    0 </td><td>    0 </td><td>   0  </td><td>  689 </td><td>    0 </td><td>   0  </td><td>   0  </td><td>   0  </td><td>1     </td></tr>\n",
       "\t<tr><td>120000</td><td>2     </td><td>2     </td><td>2     </td><td>26    </td><td>-1    </td><td>2     </td><td>0     </td><td>0     </td><td>0     </td><td>...   </td><td> 3272 </td><td> 3455 </td><td> 3261 </td><td>   0  </td><td> 1000 </td><td> 1000 </td><td>1000  </td><td>   0  </td><td>2000  </td><td>1     </td></tr>\n",
       "\t<tr><td> 90000</td><td>2     </td><td>2     </td><td>2     </td><td>34    </td><td>0     </td><td>0     </td><td>0     </td><td>0     </td><td>0     </td><td>...   </td><td>14331 </td><td>14948 </td><td>15549 </td><td>1518  </td><td> 1500 </td><td> 1000 </td><td>1000  </td><td>1000  </td><td>5000  </td><td>0     </td></tr>\n",
       "\t<tr><td> 50000</td><td>2     </td><td>2     </td><td>1     </td><td>37    </td><td>0     </td><td>0     </td><td>0     </td><td>0     </td><td>0     </td><td>...   </td><td>28314 </td><td>28959 </td><td>29547 </td><td>2000  </td><td> 2019 </td><td> 1200 </td><td>1100  </td><td>1069  </td><td>1000  </td><td>0     </td></tr>\n",
       "\t<tr><td> 50000</td><td>1     </td><td>2     </td><td>1     </td><td>57    </td><td>-1    </td><td>0     </td><td>-1    </td><td>0     </td><td>0     </td><td>...   </td><td>20940 </td><td>19146 </td><td>19131 </td><td>2000  </td><td>36681 </td><td>10000 </td><td>9000  </td><td> 689  </td><td> 679  </td><td>0     </td></tr>\n",
       "\t<tr><td> 50000</td><td>1     </td><td>1     </td><td>2     </td><td>37    </td><td>0     </td><td>0     </td><td>0     </td><td>0     </td><td>0     </td><td>...   </td><td>19394 </td><td>19619 </td><td>20024 </td><td>2500  </td><td> 1815 </td><td>  657 </td><td>1000  </td><td>1000  </td><td> 800  </td><td>0     </td></tr>\n",
       "</tbody>\n",
       "</table>\n"
      ],
      "text/latex": [
       "\\begin{tabular}{r|llllllllllllllllllllllll}\n",
       " LIMIT\\_BAL & SEX & EDUCATION & MARRIAGE & AGE & PAY\\_0 & PAY\\_2 & PAY\\_3 & PAY\\_4 & PAY\\_5 & ... & BILL\\_AMT4 & BILL\\_AMT5 & BILL\\_AMT6 & PAY\\_AMT1 & PAY\\_AMT2 & PAY\\_AMT3 & PAY\\_AMT4 & PAY\\_AMT5 & PAY\\_AMT6 & default.payment.next.month\\\\\n",
       "\\hline\n",
       "\t  20000 & 2      & 2      & 1      & 24     & 2      & 2      & -1     & -1     & -2     & ...    &     0  &     0  &     0  &    0   &   689  &     0  &    0   &    0   &    0   & 1     \\\\\n",
       "\t 120000 & 2      & 2      & 2      & 26     & -1     & 2      & 0      & 0      & 0      & ...    &  3272  &  3455  &  3261  &    0   &  1000  &  1000  & 1000   &    0   & 2000   & 1     \\\\\n",
       "\t  90000 & 2      & 2      & 2      & 34     & 0      & 0      & 0      & 0      & 0      & ...    & 14331  & 14948  & 15549  & 1518   &  1500  &  1000  & 1000   & 1000   & 5000   & 0     \\\\\n",
       "\t  50000 & 2      & 2      & 1      & 37     & 0      & 0      & 0      & 0      & 0      & ...    & 28314  & 28959  & 29547  & 2000   &  2019  &  1200  & 1100   & 1069   & 1000   & 0     \\\\\n",
       "\t  50000 & 1      & 2      & 1      & 57     & -1     & 0      & -1     & 0      & 0      & ...    & 20940  & 19146  & 19131  & 2000   & 36681  & 10000  & 9000   &  689   &  679   & 0     \\\\\n",
       "\t  50000 & 1      & 1      & 2      & 37     & 0      & 0      & 0      & 0      & 0      & ...    & 19394  & 19619  & 20024  & 2500   &  1815  &   657  & 1000   & 1000   &  800   & 0     \\\\\n",
       "\\end{tabular}\n"
      ],
      "text/markdown": [
       "\n",
       "LIMIT_BAL | SEX | EDUCATION | MARRIAGE | AGE | PAY_0 | PAY_2 | PAY_3 | PAY_4 | PAY_5 | ... | BILL_AMT4 | BILL_AMT5 | BILL_AMT6 | PAY_AMT1 | PAY_AMT2 | PAY_AMT3 | PAY_AMT4 | PAY_AMT5 | PAY_AMT6 | default.payment.next.month | \n",
       "|---|---|---|---|---|---|\n",
       "|  20000 | 2      | 2      | 1      | 24     | 2      | 2      | -1     | -1     | -2     | ...    |     0  |     0  |     0  |    0   |   689  |     0  |    0   |    0   |    0   | 1      | \n",
       "| 120000 | 2      | 2      | 2      | 26     | -1     | 2      | 0      | 0      | 0      | ...    |  3272  |  3455  |  3261  |    0   |  1000  |  1000  | 1000   |    0   | 2000   | 1      | \n",
       "|  90000 | 2      | 2      | 2      | 34     | 0      | 0      | 0      | 0      | 0      | ...    | 14331  | 14948  | 15549  | 1518   |  1500  |  1000  | 1000   | 1000   | 5000   | 0      | \n",
       "|  50000 | 2      | 2      | 1      | 37     | 0      | 0      | 0      | 0      | 0      | ...    | 28314  | 28959  | 29547  | 2000   |  2019  |  1200  | 1100   | 1069   | 1000   | 0      | \n",
       "|  50000 | 1      | 2      | 1      | 57     | -1     | 0      | -1     | 0      | 0      | ...    | 20940  | 19146  | 19131  | 2000   | 36681  | 10000  | 9000   |  689   |  679   | 0      | \n",
       "|  50000 | 1      | 1      | 2      | 37     | 0      | 0      | 0      | 0      | 0      | ...    | 19394  | 19619  | 20024  | 2500   |  1815  |   657  | 1000   | 1000   |  800   | 0      | \n",
       "\n",
       "\n"
      ],
      "text/plain": [
       "  LIMIT_BAL SEX EDUCATION MARRIAGE AGE PAY_0 PAY_2 PAY_3 PAY_4 PAY_5 ...\n",
       "1  20000    2   2         1        24  2     2     -1    -1    -2    ...\n",
       "2 120000    2   2         2        26  -1    2     0     0     0     ...\n",
       "3  90000    2   2         2        34  0     0     0     0     0     ...\n",
       "4  50000    2   2         1        37  0     0     0     0     0     ...\n",
       "5  50000    1   2         1        57  -1    0     -1    0     0     ...\n",
       "6  50000    1   1         2        37  0     0     0     0     0     ...\n",
       "  BILL_AMT4 BILL_AMT5 BILL_AMT6 PAY_AMT1 PAY_AMT2 PAY_AMT3 PAY_AMT4 PAY_AMT5\n",
       "1     0         0         0        0       689        0       0        0    \n",
       "2  3272      3455      3261        0      1000     1000    1000        0    \n",
       "3 14331     14948     15549     1518      1500     1000    1000     1000    \n",
       "4 28314     28959     29547     2000      2019     1200    1100     1069    \n",
       "5 20940     19146     19131     2000     36681    10000    9000      689    \n",
       "6 19394     19619     20024     2500      1815      657    1000     1000    \n",
       "  PAY_AMT6 default.payment.next.month\n",
       "1    0     1                         \n",
       "2 2000     1                         \n",
       "3 5000     0                         \n",
       "4 1000     0                         \n",
       "5  679     0                         \n",
       "6  800     0                         "
      ]
     },
     "metadata": {},
     "output_type": "display_data"
    }
   ],
   "source": [
    "head(data)\n",
    "# describe(data)"
   ]
  },
  {
   "cell_type": "code",
   "execution_count": 7,
   "metadata": {},
   "outputs": [
    {
     "data": {
      "text/plain": [
       "\n",
       " TRUE \n",
       "30000 "
      ]
     },
     "metadata": {},
     "output_type": "display_data"
    }
   ],
   "source": [
    "# Se Verifica que los datos esten completos (Sin NAs)\n",
    "table(complete.cases(data))"
   ]
  },
  {
   "cell_type": "code",
   "execution_count": 8,
   "metadata": {
    "scrolled": false
   },
   "outputs": [
    {
     "data": {
      "text/plain": [
       "\n",
       "    0     1 \n",
       "23364  6636 "
      ]
     },
     "metadata": {},
     "output_type": "display_data"
    }
   ],
   "source": [
    "# Se valida la proporción de los datos para cada categoría\n",
    "table(data$default.payment.next.month)"
   ]
  },
  {
   "cell_type": "code",
   "execution_count": 9,
   "metadata": {
    "scrolled": true
   },
   "outputs": [
    {
     "data": {
      "text/html": [
       "<ol class=list-inline>\n",
       "\t<li>30000</li>\n",
       "\t<li>24</li>\n",
       "</ol>\n"
      ],
      "text/latex": [
       "\\begin{enumerate*}\n",
       "\\item 30000\n",
       "\\item 24\n",
       "\\end{enumerate*}\n"
      ],
      "text/markdown": [
       "1. 30000\n",
       "2. 24\n",
       "\n",
       "\n"
      ],
      "text/plain": [
       "[1] 30000    24"
      ]
     },
     "metadata": {},
     "output_type": "display_data"
    }
   ],
   "source": [
    "# Se contabilizan la cantidad de columnas y filas que tiene el dataset\n",
    "dim(data)"
   ]
  },
  {
   "cell_type": "code",
   "execution_count": 10,
   "metadata": {},
   "outputs": [
    {
     "data": {
      "text/plain": [
       "   LIMIT_BAL       SEX       EDUCATION MARRIAGE       AGE       \n",
       " Min.   :  10000   1:11888   0:   14   0:   54   Min.   :21.00  \n",
       " 1st Qu.:  50000   2:18112   1:10585   1:13659   1st Qu.:28.00  \n",
       " Median : 140000             2:14030   2:15964   Median :34.00  \n",
       " Mean   : 167484             3: 4917   3:  323   Mean   :35.49  \n",
       " 3rd Qu.: 240000             4:  123             3rd Qu.:41.00  \n",
       " Max.   :1000000             5:  280             Max.   :79.00  \n",
       "                             6:   51                            \n",
       "     PAY_0           PAY_2           PAY_3           PAY_4      \n",
       " 0      :14737   0      :15730   0      :15764   0      :16455  \n",
       " -1     : 5686   -1     : 6050   -1     : 5938   -1     : 5687  \n",
       " 1      : 3688   2      : 3927   -2     : 4085   -2     : 4348  \n",
       " -2     : 2759   -2     : 3782   2      : 3819   2      : 3159  \n",
       " 2      : 2667   3      :  326   3      :  240   3      :  180  \n",
       " 3      :  322   4      :   99   4      :   76   4      :   69  \n",
       " (Other):  141   (Other):   86   (Other):   78   (Other):  102  \n",
       "     PAY_5           PAY_6         BILL_AMT1         BILL_AMT2     \n",
       " 0      :16947   0      :16286   Min.   :-165580   Min.   :-69777  \n",
       " -1     : 5539   -1     : 5740   1st Qu.:   3559   1st Qu.:  2985  \n",
       " -2     : 4546   -2     : 4895   Median :  22382   Median : 21200  \n",
       " 2      : 2626   2      : 2766   Mean   :  51223   Mean   : 49179  \n",
       " 3      :  178   3      :  184   3rd Qu.:  67091   3rd Qu.: 64006  \n",
       " 4      :   84   4      :   49   Max.   : 964511   Max.   :983931  \n",
       " (Other):   80   (Other):   80                                     \n",
       "   BILL_AMT3         BILL_AMT4         BILL_AMT5        BILL_AMT6      \n",
       " Min.   :-157264   Min.   :-170000   Min.   :-81334   Min.   :-339603  \n",
       " 1st Qu.:   2666   1st Qu.:   2327   1st Qu.:  1763   1st Qu.:   1256  \n",
       " Median :  20089   Median :  19052   Median : 18105   Median :  17071  \n",
       " Mean   :  47013   Mean   :  43263   Mean   : 40311   Mean   :  38872  \n",
       " 3rd Qu.:  60165   3rd Qu.:  54506   3rd Qu.: 50191   3rd Qu.:  49198  \n",
       " Max.   :1664089   Max.   : 891586   Max.   :927171   Max.   : 961664  \n",
       "                                                                       \n",
       "    PAY_AMT1         PAY_AMT2          PAY_AMT3         PAY_AMT4     \n",
       " Min.   :     0   Min.   :      0   Min.   :     0   Min.   :     0  \n",
       " 1st Qu.:  1000   1st Qu.:    833   1st Qu.:   390   1st Qu.:   296  \n",
       " Median :  2100   Median :   2009   Median :  1800   Median :  1500  \n",
       " Mean   :  5664   Mean   :   5921   Mean   :  5226   Mean   :  4826  \n",
       " 3rd Qu.:  5006   3rd Qu.:   5000   3rd Qu.:  4505   3rd Qu.:  4013  \n",
       " Max.   :873552   Max.   :1684259   Max.   :896040   Max.   :621000  \n",
       "                                                                     \n",
       "    PAY_AMT5           PAY_AMT6        default.payment.next.month\n",
       " Min.   :     0.0   Min.   :     0.0   0:23364                   \n",
       " 1st Qu.:   252.5   1st Qu.:   117.8   1: 6636                   \n",
       " Median :  1500.0   Median :  1500.0                             \n",
       " Mean   :  4799.4   Mean   :  5215.5                             \n",
       " 3rd Qu.:  4031.5   3rd Qu.:  4000.0                             \n",
       " Max.   :426529.0   Max.   :528666.0                             \n",
       "                                                                 "
      ]
     },
     "metadata": {},
     "output_type": "display_data"
    }
   ],
   "source": [
    "# Se examina el rango de las variables\n",
    "summary(data)"
   ]
  },
  {
   "cell_type": "code",
   "execution_count": 11,
   "metadata": {
    "collapsed": true
   },
   "outputs": [],
   "source": [
    "# Se separa la variable clasificadora \n",
    "default <- data$default.payment.next.month\n",
    "\n",
    "# Se crea el conjunto con las variables de entrenamiento sin la columna ID, ni la clasificadora\n",
    "X <- data[,1:23] # Variables numericas sin escalar\n",
    "\n",
    "\n",
    "X_cat <- X[,c(2:4,6:11)] # Variables categoricas\n",
    "X_num <- X[,c(1,5,12:23)] # Variables Numericas\n"
   ]
  },
  {
   "cell_type": "code",
   "execution_count": 12,
   "metadata": {},
   "outputs": [
    {
     "data": {
      "text/html": [
       "<ol class=list-inline>\n",
       "\t<li>No_pagará</li>\n",
       "\t<li>No_pagará</li>\n",
       "\t<li>Pagará</li>\n",
       "\t<li>Pagará</li>\n",
       "\t<li>Pagará</li>\n",
       "\t<li>Pagará</li>\n",
       "</ol>\n"
      ],
      "text/latex": [
       "\\begin{enumerate*}\n",
       "\\item No\\_pagará\n",
       "\\item No\\_pagará\n",
       "\\item Pagará\n",
       "\\item Pagará\n",
       "\\item Pagará\n",
       "\\item Pagará\n",
       "\\end{enumerate*}\n"
      ],
      "text/markdown": [
       "1. No_pagará\n",
       "2. No_pagará\n",
       "3. Pagará\n",
       "4. Pagará\n",
       "5. Pagará\n",
       "6. Pagará\n",
       "\n",
       "\n"
      ],
      "text/plain": [
       "[1] No_pagará No_pagará Pagará    Pagará    Pagará    Pagará   \n",
       "Levels: Pagará No_pagará"
      ]
     },
     "metadata": {},
     "output_type": "display_data"
    }
   ],
   "source": [
    "## Se convierte la columna default.payment.next.month a factor con etiquetas.\n",
    "default <- factor(default,\n",
    "            levels=c('0', '1'),\n",
    "            labels= c('Pagará', 'No_pagará'))\n",
    "\n",
    "head(default)"
   ]
  },
  {
   "cell_type": "code",
   "execution_count": 13,
   "metadata": {},
   "outputs": [
    {
     "data": {
      "text/plain": [
       "default\n",
       "   Pagará No_pagará \n",
       "    77.88     22.12 "
      ]
     },
     "metadata": {},
     "output_type": "display_data"
    }
   ],
   "source": [
    "# Proporción de la clasificación\n",
    "round(prop.table(table(default))*100, digits =2)"
   ]
  },
  {
   "cell_type": "code",
   "execution_count": 14,
   "metadata": {
    "scrolled": true
   },
   "outputs": [
    {
     "data": {
      "image/png": "[encoded data removed]",
      "text/plain": [
       "plot without title"
      ]
     },
     "metadata": {},
     "output_type": "display_data"
    }
   ],
   "source": [
    "#boxplot(data)\n",
    "plt <- boxplot(X_num, \n",
    "               xlab=\"Variables\", \n",
    "               ylab=\"Valores\",\n",
    "               srt = 90,\n",
    "               horiz=FALSE,\n",
    "               las=2)\n",
    "grid()"
   ]
  },
  {
   "cell_type": "markdown",
   "metadata": {},
   "source": [
    "Como se puede apreciar en el boxplot y en los estadísticos básicos, dada la gran diferencia en los rangos entre los cuales fluctúan cada uno de los datos de las variables, se realizará un proceso de escalamiento en la siguiente sección."
   ]
  },
  {
   "cell_type": "markdown",
   "metadata": {},
   "source": [
    "# 4) Preparación de los datos"
   ]
  },
  {
   "cell_type": "code",
   "execution_count": 15,
   "metadata": {},
   "outputs": [
    {
     "data": {
      "text/html": [
       "<table>\n",
       "<thead><tr><th scope=col>LIMIT_BAL</th><th scope=col>AGE</th><th scope=col>BILL_AMT1</th><th scope=col>BILL_AMT2</th><th scope=col>BILL_AMT3</th><th scope=col>BILL_AMT4</th><th scope=col>BILL_AMT5</th><th scope=col>BILL_AMT6</th><th scope=col>PAY_AMT1</th><th scope=col>PAY_AMT2</th><th scope=col>PAY_AMT3</th><th scope=col>PAY_AMT4</th><th scope=col>PAY_AMT5</th><th scope=col>PAY_AMT6</th></tr></thead>\n",
       "<tbody>\n",
       "\t<tr><td> 20000</td><td>24    </td><td> 3913 </td><td> 3102 </td><td>  689 </td><td>    0 </td><td>    0 </td><td>    0 </td><td>   0  </td><td>  689 </td><td>    0 </td><td>   0  </td><td>   0  </td><td>   0  </td></tr>\n",
       "\t<tr><td>120000</td><td>26    </td><td> 2682 </td><td> 1725 </td><td> 2682 </td><td> 3272 </td><td> 3455 </td><td> 3261 </td><td>   0  </td><td> 1000 </td><td> 1000 </td><td>1000  </td><td>   0  </td><td>2000  </td></tr>\n",
       "\t<tr><td> 90000</td><td>34    </td><td>29239 </td><td>14027 </td><td>13559 </td><td>14331 </td><td>14948 </td><td>15549 </td><td>1518  </td><td> 1500 </td><td> 1000 </td><td>1000  </td><td>1000  </td><td>5000  </td></tr>\n",
       "\t<tr><td> 50000</td><td>37    </td><td>46990 </td><td>48233 </td><td>49291 </td><td>28314 </td><td>28959 </td><td>29547 </td><td>2000  </td><td> 2019 </td><td> 1200 </td><td>1100  </td><td>1069  </td><td>1000  </td></tr>\n",
       "\t<tr><td> 50000</td><td>57    </td><td> 8617 </td><td> 5670 </td><td>35835 </td><td>20940 </td><td>19146 </td><td>19131 </td><td>2000  </td><td>36681 </td><td>10000 </td><td>9000  </td><td> 689  </td><td> 679  </td></tr>\n",
       "\t<tr><td> 50000</td><td>37    </td><td>64400 </td><td>57069 </td><td>57608 </td><td>19394 </td><td>19619 </td><td>20024 </td><td>2500  </td><td> 1815 </td><td>  657 </td><td>1000  </td><td>1000  </td><td> 800  </td></tr>\n",
       "</tbody>\n",
       "</table>\n"
      ],
      "text/latex": [
       "\\begin{tabular}{r|llllllllllllll}\n",
       " LIMIT\\_BAL & AGE & BILL\\_AMT1 & BILL\\_AMT2 & BILL\\_AMT3 & BILL\\_AMT4 & BILL\\_AMT5 & BILL\\_AMT6 & PAY\\_AMT1 & PAY\\_AMT2 & PAY\\_AMT3 & PAY\\_AMT4 & PAY\\_AMT5 & PAY\\_AMT6\\\\\n",
       "\\hline\n",
       "\t  20000 & 24     &  3913  &  3102  &   689  &     0  &     0  &     0  &    0   &   689  &     0  &    0   &    0   &    0  \\\\\n",
       "\t 120000 & 26     &  2682  &  1725  &  2682  &  3272  &  3455  &  3261  &    0   &  1000  &  1000  & 1000   &    0   & 2000  \\\\\n",
       "\t  90000 & 34     & 29239  & 14027  & 13559  & 14331  & 14948  & 15549  & 1518   &  1500  &  1000  & 1000   & 1000   & 5000  \\\\\n",
       "\t  50000 & 37     & 46990  & 48233  & 49291  & 28314  & 28959  & 29547  & 2000   &  2019  &  1200  & 1100   & 1069   & 1000  \\\\\n",
       "\t  50000 & 57     &  8617  &  5670  & 35835  & 20940  & 19146  & 19131  & 2000   & 36681  & 10000  & 9000   &  689   &  679  \\\\\n",
       "\t  50000 & 37     & 64400  & 57069  & 57608  & 19394  & 19619  & 20024  & 2500   &  1815  &   657  & 1000   & 1000   &  800  \\\\\n",
       "\\end{tabular}\n"
      ],
      "text/markdown": [
       "\n",
       "LIMIT_BAL | AGE | BILL_AMT1 | BILL_AMT2 | BILL_AMT3 | BILL_AMT4 | BILL_AMT5 | BILL_AMT6 | PAY_AMT1 | PAY_AMT2 | PAY_AMT3 | PAY_AMT4 | PAY_AMT5 | PAY_AMT6 | \n",
       "|---|---|---|---|---|---|\n",
       "|  20000 | 24     |  3913  |  3102  |   689  |     0  |     0  |     0  |    0   |   689  |     0  |    0   |    0   |    0   | \n",
       "| 120000 | 26     |  2682  |  1725  |  2682  |  3272  |  3455  |  3261  |    0   |  1000  |  1000  | 1000   |    0   | 2000   | \n",
       "|  90000 | 34     | 29239  | 14027  | 13559  | 14331  | 14948  | 15549  | 1518   |  1500  |  1000  | 1000   | 1000   | 5000   | \n",
       "|  50000 | 37     | 46990  | 48233  | 49291  | 28314  | 28959  | 29547  | 2000   |  2019  |  1200  | 1100   | 1069   | 1000   | \n",
       "|  50000 | 57     |  8617  |  5670  | 35835  | 20940  | 19146  | 19131  | 2000   | 36681  | 10000  | 9000   |  689   |  679   | \n",
       "|  50000 | 37     | 64400  | 57069  | 57608  | 19394  | 19619  | 20024  | 2500   |  1815  |   657  | 1000   | 1000   |  800   | \n",
       "\n",
       "\n"
      ],
      "text/plain": [
       "  LIMIT_BAL AGE BILL_AMT1 BILL_AMT2 BILL_AMT3 BILL_AMT4 BILL_AMT5 BILL_AMT6\n",
       "1  20000    24   3913      3102       689         0         0         0    \n",
       "2 120000    26   2682      1725      2682      3272      3455      3261    \n",
       "3  90000    34  29239     14027     13559     14331     14948     15549    \n",
       "4  50000    37  46990     48233     49291     28314     28959     29547    \n",
       "5  50000    57   8617      5670     35835     20940     19146     19131    \n",
       "6  50000    37  64400     57069     57608     19394     19619     20024    \n",
       "  PAY_AMT1 PAY_AMT2 PAY_AMT3 PAY_AMT4 PAY_AMT5 PAY_AMT6\n",
       "1    0       689        0       0        0        0    \n",
       "2    0      1000     1000    1000        0     2000    \n",
       "3 1518      1500     1000    1000     1000     5000    \n",
       "4 2000      2019     1200    1100     1069     1000    \n",
       "5 2000     36681    10000    9000      689      679    \n",
       "6 2500      1815      657    1000     1000      800    "
      ]
     },
     "metadata": {},
     "output_type": "display_data"
    }
   ],
   "source": [
    "# Se valida el encabezado para las variables que conforman el set de X\n",
    "\n",
    "head(X_num)"
   ]
  },
  {
   "cell_type": "code",
   "execution_count": 16,
   "metadata": {
    "collapsed": true
   },
   "outputs": [],
   "source": [
    "# Se define la función de normalización\n",
    "\n",
    "MinMaxEscaler <-\n",
    "function(x) {\n",
    "    return ((x - min(x)) / (max(x) - min(x)))\n",
    "}\n",
    "\n",
    "# Se aplica la función a los datos\n",
    "\n",
    "X_num <- as.data.frame(lapply(X_num, MinMaxEscaler))"
   ]
  },
  {
   "cell_type": "code",
   "execution_count": 17,
   "metadata": {},
   "outputs": [
    {
     "data": {
      "image/png": "[encoded data removed]",
      "text/plain": [
       "plot without title"
      ]
     },
     "metadata": {},
     "output_type": "display_data"
    }
   ],
   "source": [
    "boxplot(X_num, \n",
    "        ylab= 'Escala', \n",
    "        srt= 90, \n",
    "        horiz= FALSE, \n",
    "        las= 2)"
   ]
  },
  {
   "cell_type": "markdown",
   "metadata": {},
   "source": [
    "Ahora, el nuevo boxplot permite validar que todos los valores que asumen las variables que conforman el objeto X, varían en un el mismo intervalo."
   ]
  },
  {
   "cell_type": "code",
   "execution_count": 18,
   "metadata": {},
   "outputs": [
    {
     "data": {
      "text/html": [
       "<ol class=list-inline>\n",
       "\t<li>30000</li>\n",
       "\t<li>23</li>\n",
       "</ol>\n"
      ],
      "text/latex": [
       "\\begin{enumerate*}\n",
       "\\item 30000\n",
       "\\item 23\n",
       "\\end{enumerate*}\n"
      ],
      "text/markdown": [
       "1. 30000\n",
       "2. 23\n",
       "\n",
       "\n"
      ],
      "text/plain": [
       "[1] 30000    23"
      ]
     },
     "metadata": {},
     "output_type": "display_data"
    }
   ],
   "source": [
    "# Se crea objeto con variables categoricas y numéricas ya escaladas\n",
    "\n",
    "X_scaled <- cbind(X_cat, X_num)\n",
    "dim(X_scaled)"
   ]
  },
  {
   "cell_type": "code",
   "execution_count": 19,
   "metadata": {},
   "outputs": [
    {
     "data": {
      "text/plain": [
       " SEX       EDUCATION MARRIAGE      PAY_0           PAY_2           PAY_3      \n",
       " 1:11888   0:   14   0:   54   0      :14737   0      :15730   0      :15764  \n",
       " 2:18112   1:10585   1:13659   -1     : 5686   -1     : 6050   -1     : 5938  \n",
       "           2:14030   2:15964   1      : 3688   2      : 3927   -2     : 4085  \n",
       "           3: 4917   3:  323   -2     : 2759   -2     : 3782   2      : 3819  \n",
       "           4:  123             2      : 2667   3      :  326   3      :  240  \n",
       "           5:  280             3      :  322   4      :   99   4      :   76  \n",
       "           6:   51             (Other):  141   (Other):   86   (Other):   78  \n",
       "     PAY_4           PAY_5           PAY_6         LIMIT_BAL     \n",
       " 0      :16455   0      :16947   0      :16286   Min.   :0.0000  \n",
       " -1     : 5687   -1     : 5539   -1     : 5740   1st Qu.:0.0404  \n",
       " -2     : 4348   -2     : 4546   -2     : 4895   Median :0.1313  \n",
       " 2      : 3159   2      : 2626   2      : 2766   Mean   :0.1591  \n",
       " 3      :  180   3      :  178   3      :  184   3rd Qu.:0.2323  \n",
       " 4      :   69   4      :   84   4      :   49   Max.   :1.0000  \n",
       " (Other):  102   (Other):   80   (Other):   80                   \n",
       "      AGE           BILL_AMT1        BILL_AMT2         BILL_AMT3      \n",
       " Min.   :0.0000   Min.   :0.0000   Min.   :0.00000   Min.   :0.00000  \n",
       " 1st Qu.:0.1207   1st Qu.:0.1497   1st Qu.:0.06905   1st Qu.:0.08781  \n",
       " Median :0.2241   Median :0.1663   Median :0.08634   Median :0.09737  \n",
       " Mean   :0.2497   Mean   :0.1918   Mean   :0.11289   Mean   :0.11216  \n",
       " 3rd Qu.:0.3448   3rd Qu.:0.2059   3rd Qu.:0.12696   3rd Qu.:0.11938  \n",
       " Max.   :1.0000   Max.   :1.0000   Max.   :1.00000   Max.   :1.00000  \n",
       "                                                                      \n",
       "   BILL_AMT4        BILL_AMT5        BILL_AMT6         PAY_AMT1       \n",
       " Min.   :0.0000   Min.   :0.0000   Min.   :0.0000   Min.   :0.000000  \n",
       " 1st Qu.:0.1623   1st Qu.:0.0824   1st Qu.:0.2619   1st Qu.:0.001145  \n",
       " Median :0.1781   Median :0.0986   Median :0.2741   Median :0.002404  \n",
       " Mean   :0.2009   Mean   :0.1206   Mean   :0.2909   Mean   :0.006483  \n",
       " 3rd Qu.:0.2115   3rd Qu.:0.1304   3rd Qu.:0.2988   3rd Qu.:0.005731  \n",
       " Max.   :1.0000   Max.   :1.0000   Max.   :1.0000   Max.   :1.000000  \n",
       "                                                                      \n",
       "    PAY_AMT2            PAY_AMT3            PAY_AMT4            PAY_AMT5       \n",
       " Min.   :0.0000000   Min.   :0.0000000   Min.   :0.0000000   Min.   :0.000000  \n",
       " 1st Qu.:0.0004946   1st Qu.:0.0004352   1st Qu.:0.0004767   1st Qu.:0.000592  \n",
       " Median :0.0011928   Median :0.0020088   Median :0.0024155   Median :0.003517  \n",
       " Mean   :0.0035156   Mean   :0.0058320   Mean   :0.0077715   Mean   :0.011252  \n",
       " 3rd Qu.:0.0029687   3rd Qu.:0.0050277   3rd Qu.:0.0064626   3rd Qu.:0.009452  \n",
       " Max.   :1.0000000   Max.   :1.0000000   Max.   :1.0000000   Max.   :1.000000  \n",
       "                                                                               \n",
       "    PAY_AMT6        \n",
       " Min.   :0.0000000  \n",
       " 1st Qu.:0.0002227  \n",
       " Median :0.0028373  \n",
       " Mean   :0.0098654  \n",
       " 3rd Qu.:0.0075662  \n",
       " Max.   :1.0000000  \n",
       "                    "
      ]
     },
     "metadata": {},
     "output_type": "display_data"
    }
   ],
   "source": [
    "# Se validan los estadísticos básicos para todas las variables que conforman el objeto X \n",
    "# tanto numéricas como categóricas\n",
    "\n",
    "summary(X_scaled)"
   ]
  },
  {
   "cell_type": "code",
   "execution_count": 20,
   "metadata": {},
   "outputs": [
    {
     "name": "stdout",
     "output_type": "stream",
     "text": [
      "'data.frame':\t30000 obs. of  24 variables:\n",
      " $ SEX      : Factor w/ 2 levels \"1\",\"2\": 2 2 2 2 1 1 1 2 2 1 ...\n",
      " $ EDUCATION: Factor w/ 7 levels \"0\",\"1\",\"2\",\"3\",..: 3 3 3 3 3 2 2 3 4 4 ...\n",
      " $ MARRIAGE : Factor w/ 4 levels \"0\",\"1\",\"2\",\"3\": 2 3 3 2 2 3 3 3 2 3 ...\n",
      " $ PAY_0    : Factor w/ 11 levels \"-2\",\"-1\",\"0\",..: 5 2 3 3 2 3 3 3 3 1 ...\n",
      " $ PAY_2    : Factor w/ 11 levels \"-2\",\"-1\",\"0\",..: 5 5 3 3 3 3 3 2 3 1 ...\n",
      " $ PAY_3    : Factor w/ 11 levels \"-2\",\"-1\",\"0\",..: 2 3 3 3 2 3 3 2 5 1 ...\n",
      " $ PAY_4    : Factor w/ 11 levels \"-2\",\"-1\",\"0\",..: 2 3 3 3 3 3 3 3 3 1 ...\n",
      " $ PAY_5    : Factor w/ 10 levels \"-2\",\"-1\",\"0\",..: 1 3 3 3 3 3 3 3 3 2 ...\n",
      " $ PAY_6    : Factor w/ 10 levels \"-2\",\"-1\",\"0\",..: 1 4 3 3 3 3 3 2 3 2 ...\n",
      " $ LIMIT_BAL: num  0.0101 0.1111 0.0808 0.0404 0.0404 ...\n",
      " $ AGE      : num  0.0517 0.0862 0.2241 0.2759 0.6207 ...\n",
      " $ BILL_AMT1: num  0.15 0.149 0.172 0.188 0.154 ...\n",
      " $ BILL_AMT2: num  0.0692 0.0679 0.0795 0.112 0.0716 ...\n",
      " $ BILL_AMT3: num  0.0867 0.0878 0.0938 0.1134 0.106 ...\n",
      " $ BILL_AMT4: num  0.16 0.163 0.174 0.187 0.18 ...\n",
      " $ BILL_AMT5: num  0.0806 0.0841 0.0955 0.1094 0.0996 ...\n",
      " $ BILL_AMT6: num  0.261 0.263 0.273 0.284 0.276 ...\n",
      " $ PAY_AMT1 : num  0 0 0.00174 0.00229 0.00229 ...\n",
      " $ PAY_AMT2 : num  0.000409 0.000594 0.000891 0.001199 0.021779 ...\n",
      " $ PAY_AMT3 : num  0 0.00112 0.00112 0.00134 0.01116 ...\n",
      " $ PAY_AMT4 : num  0 0.00161 0.00161 0.00177 0.01449 ...\n",
      " $ PAY_AMT5 : num  0 0 0.00234 0.00251 0.00162 ...\n",
      " $ PAY_AMT6 : num  0 0.00378 0.00946 0.00189 0.00128 ...\n",
      " $ default  : Factor w/ 2 levels \"Pagará\",\"No_pagará\": 2 2 1 1 1 1 1 1 1 1 ...\n"
     ]
    },
    {
     "data": {
      "text/html": [
       "<ol class=list-inline>\n",
       "\t<li>30000</li>\n",
       "\t<li>24</li>\n",
       "</ol>\n"
      ],
      "text/latex": [
       "\\begin{enumerate*}\n",
       "\\item 30000\n",
       "\\item 24\n",
       "\\end{enumerate*}\n"
      ],
      "text/markdown": [
       "1. 30000\n",
       "2. 24\n",
       "\n",
       "\n"
      ],
      "text/plain": [
       "[1] 30000    24"
      ]
     },
     "metadata": {},
     "output_type": "display_data"
    }
   ],
   "source": [
    "# Crear objeto con las variables categoricas, la clasificadora y las variables numericas escaladas\n",
    "\n",
    "X_scaled <- cbind(X_cat, X_num, default)\n",
    "str(X_scaled)\n",
    "dim(X_scaled)"
   ]
  },
  {
   "cell_type": "markdown",
   "metadata": {},
   "source": [
    "# Partición aleatoria de los datos"
   ]
  },
  {
   "cell_type": "code",
   "execution_count": 21,
   "metadata": {
    "collapsed": true
   },
   "outputs": [],
   "source": [
    "indices <- sample(1:30000, 20000)\n",
    "\n",
    "X_train <- X_scaled[indices,]\n",
    "y_train_true <- default[indices]\n",
    "\n",
    "X_test <- X_scaled[-indices,]\n",
    "y_test_true <- default[-indices]"
   ]
  },
  {
   "cell_type": "code",
   "execution_count": 22,
   "metadata": {
    "collapsed": true,
    "scrolled": true
   },
   "outputs": [],
   "source": [
    "set.seed(300)\n",
    "# Dividir los datos en cunjunto de entrenamiento y prueba con datapartition de caret\n",
    "\n",
    "indxTrain <- createDataPartition(X_scaled$default,\n",
    "                                 p = 0.7,\n",
    "                                 list = FALSE)\n",
    "\n",
    "training <- X_scaled[indxTrain,]\n",
    "testing <- X_scaled[-indxTrain,]\n",
    "\n"
   ]
  },
  {
   "cell_type": "markdown",
   "metadata": {},
   "source": [
    "# Distribución de la variable clasificadora"
   ]
  },
  {
   "cell_type": "markdown",
   "metadata": {},
   "source": [
    "Se chequea la distribución de la variable clasificadora en los conjuntos de entrenamiento, test y base de datos original.\n",
    "\n",
    "El objetivo es procurar que la proporción entre las categorías que se tenía en el data set original, se mantenga en los conjuntos de entrenamiento y prueba."
   ]
  },
  {
   "cell_type": "code",
   "execution_count": 23,
   "metadata": {},
   "outputs": [
    {
     "name": "stdout",
     "output_type": "stream",
     "text": [
      "[1] \"proporción clasificadora en base de datos\"\n"
     ]
    },
    {
     "data": {
      "text/plain": [
       "\n",
       "   Pagará No_pagará \n",
       "    77.88     22.12 "
      ]
     },
     "metadata": {},
     "output_type": "display_data"
    },
    {
     "name": "stdout",
     "output_type": "stream",
     "text": [
      "[1] \"proporción clasificadora en conjunto de prueba\"\n"
     ]
    },
    {
     "data": {
      "text/plain": [
       "\n",
       "   Pagará No_pagará \n",
       " 77.87724  22.12276 "
      ]
     },
     "metadata": {},
     "output_type": "display_data"
    },
    {
     "name": "stdout",
     "output_type": "stream",
     "text": [
      "[1] \"proporción clasificadora en testing\"\n"
     ]
    },
    {
     "data": {
      "text/plain": [
       "\n",
       "   Pagará No_pagará \n",
       " 77.88643  22.11357 "
      ]
     },
     "metadata": {},
     "output_type": "display_data"
    }
   ],
   "source": [
    "print(\"proporción clasificadora en base de datos\")\n",
    "prop.table(table(X_scaled$default)) * 100\n",
    "\n",
    "print(\"proporción clasificadora en conjunto de prueba\")\n",
    "prop.table(table(training$default)) * 100\n",
    "\n",
    "print(\"proporción clasificadora en testing\")\n",
    "prop.table(table(testing$default)) * 100"
   ]
  },
  {
   "cell_type": "markdown",
   "metadata": {},
   "source": [
    "Se evidencia una distribución similar en los conjuntos de prueba, test y base de datos completa, para las categorias de la variable clasificadora."
   ]
  },
  {
   "cell_type": "markdown",
   "metadata": {},
   "source": [
    "# 5) Entrenamiento de los modelos"
   ]
  },
  {
   "cell_type": "markdown",
   "metadata": {},
   "source": [
    "Se crea una función para calcular las principales métricas de cada modelo"
   ]
  },
  {
   "cell_type": "code",
   "execution_count": 24,
   "metadata": {
    "collapsed": true
   },
   "outputs": [],
   "source": [
    "ingresar <- function (pred){\n",
    "    # Accuracy\n",
    "    cm = as.matrix(table(actual = testing$default, Predicted = pred))\n",
    "    accu = sum(diag(cm))/length(testing$default)\n",
    "    # Error\n",
    "    error = 1 - accu\n",
    "    # Sensitivity\n",
    "    sensi = sensitivity(pred, testing$default, positive = \"Pagará\")\n",
    "    # Especificity\n",
    "    speci = specificity(pred, testing$default, Positive = \"Pagará\")\n",
    "    # PosPredValue\n",
    "    posPred = posPredValue(pred, testing$default, positive = \"Pagará\", negative = \"No Pagará\")\n",
    "    # NegPredValue\n",
    "    negPred = negPredValue(pred, testing$default, positive = \"Pagará\")\n",
    "    \n",
    "    # Ingresar indicadores a matrix\n",
    "    \n",
    "    return ( fila = c( accu, error, sensi, speci, posPred, negPred))   \n",
    "}\n"
   ]
  },
  {
   "cell_type": "markdown",
   "metadata": {},
   "source": [
    "Se crea una matriz para depositar las principales métricas de cada modelo y así facilitar al final no solo la visualización sino la comparación de los resultados."
   ]
  },
  {
   "cell_type": "code",
   "execution_count": 25,
   "metadata": {},
   "outputs": [
    {
     "data": {
      "text/html": [
       "<table>\n",
       "<thead><tr><th></th><th scope=col>accuracy</th><th scope=col>error</th><th scope=col>sensitivity</th><th scope=col>specificity</th><th scope=col>posPredValue</th><th scope=col>negPredValue</th></tr></thead>\n",
       "<tbody>\n",
       "\t<tr><th scope=row>knn</th><td>0</td><td>0</td><td>0</td><td>0</td><td>0</td><td>0</td></tr>\n",
       "\t<tr><th scope=row>Decisión Tree</th><td>0</td><td>0</td><td>0</td><td>0</td><td>0</td><td>0</td></tr>\n",
       "\t<tr><th scope=row>Random Forest</th><td>0</td><td>0</td><td>0</td><td>0</td><td>0</td><td>0</td></tr>\n",
       "\t<tr><th scope=row>SVM</th><td>0</td><td>0</td><td>0</td><td>0</td><td>0</td><td>0</td></tr>\n",
       "</tbody>\n",
       "</table>\n"
      ],
      "text/latex": [
       "\\begin{tabular}{r|llllll}\n",
       "  & accuracy & error & sensitivity & specificity & posPredValue & negPredValue\\\\\n",
       "\\hline\n",
       "\tknn & 0 & 0 & 0 & 0 & 0 & 0\\\\\n",
       "\tDecisión Tree & 0 & 0 & 0 & 0 & 0 & 0\\\\\n",
       "\tRandom Forest & 0 & 0 & 0 & 0 & 0 & 0\\\\\n",
       "\tSVM & 0 & 0 & 0 & 0 & 0 & 0\\\\\n",
       "\\end{tabular}\n"
      ],
      "text/markdown": [
       "\n",
       "| <!--/--> | accuracy | error | sensitivity | specificity | posPredValue | negPredValue | \n",
       "|---|---|---|---|\n",
       "| knn | 0 | 0 | 0 | 0 | 0 | 0 | \n",
       "| Decisión Tree | 0 | 0 | 0 | 0 | 0 | 0 | \n",
       "| Random Forest | 0 | 0 | 0 | 0 | 0 | 0 | \n",
       "| SVM | 0 | 0 | 0 | 0 | 0 | 0 | \n",
       "\n",
       "\n"
      ],
      "text/plain": [
       "              accuracy error sensitivity specificity posPredValue negPredValue\n",
       "knn           0        0     0           0           0            0           \n",
       "Decisión Tree 0        0     0           0           0            0           \n",
       "Random Forest 0        0     0           0           0            0           \n",
       "SVM           0        0     0           0           0            0           "
      ]
     },
     "metadata": {},
     "output_type": "display_data"
    }
   ],
   "source": [
    "metricas = matrix(rep(0, 24), nrow=4, ncol=6, byrow = TRUE)\n",
    "\n",
    "modelos = c('knn', 'Decisión Tree', 'Random Forest', 'SVM')\n",
    "indicadores = c('accuracy', 'error', 'sensitivity', 'specificity', 'posPredValue', 'negPredValue')\n",
    "\n",
    "dimnames(metricas) = list(modelos, indicadores)\n",
    "metricas"
   ]
  },
  {
   "cell_type": "markdown",
   "metadata": {},
   "source": [
    "# Entranamiento con cross validation"
   ]
  },
  {
   "cell_type": "markdown",
   "metadata": {},
   "source": [
    "# 5.1) Método KNN"
   ]
  },
  {
   "cell_type": "code",
   "execution_count": 26,
   "metadata": {
    "collapsed": true
   },
   "outputs": [],
   "source": [
    "set.seed(400)\n",
    "ctrl <- trainControl(method=\"cv\")"
   ]
  },
  {
   "cell_type": "code",
   "execution_count": 27,
   "metadata": {
    "scrolled": true
   },
   "outputs": [
    {
     "data": {
      "text/plain": [
       "k-Nearest Neighbors \n",
       "\n",
       "21001 samples\n",
       "   23 predictor\n",
       "    2 classes: 'Pagará', 'No_pagará' \n",
       "\n",
       "No pre-processing\n",
       "Resampling: Cross-Validated (10 fold) \n",
       "Summary of sample sizes: 18901, 18900, 18900, 18901, 18901, 18901, ... \n",
       "Resampling results across tuning parameters:\n",
       "\n",
       "  k   Accuracy   Kappa    \n",
       "   5  0.7981526  0.3225056\n",
       "   7  0.8075334  0.3387744\n",
       "   9  0.8102947  0.3408668\n",
       "  11  0.8134851  0.3460258\n",
       "  13  0.8152469  0.3522616\n",
       "  15  0.8158662  0.3505124\n",
       "  17  0.8164854  0.3510282\n",
       "  19  0.8166758  0.3505447\n",
       "  21  0.8174854  0.3510195\n",
       "  23  0.8181518  0.3525178\n",
       "\n",
       "Accuracy was used to select the optimal model using the largest value.\n",
       "The final value used for the model was k = 23."
      ]
     },
     "metadata": {},
     "output_type": "display_data"
    }
   ],
   "source": [
    "knnFit <- train(default ~ ., data = training, method = \"knn\", trControl = ctrl, tuneLength = 10)\n",
    "\n",
    "# Salida del kNN ajustado\n",
    "knnFit"
   ]
  },
  {
   "cell_type": "code",
   "execution_count": 28,
   "metadata": {
    "collapsed": true
   },
   "outputs": [],
   "source": [
    "# Predicción del modelo\n",
    "pred_knn <- predict(knnFit, testing)"
   ]
  },
  {
   "cell_type": "code",
   "execution_count": 43,
   "metadata": {},
   "outputs": [
    {
     "data": {
      "text/html": [
       "<table>\n",
       "<thead><tr><th scope=col>pred_knn</th></tr></thead>\n",
       "<tbody>\n",
       "\t<tr><td>Pagará   </td></tr>\n",
       "\t<tr><td>Pagará   </td></tr>\n",
       "\t<tr><td>Pagará   </td></tr>\n",
       "\t<tr><td>Pagará   </td></tr>\n",
       "\t<tr><td>Pagará   </td></tr>\n",
       "\t<tr><td>Pagará   </td></tr>\n",
       "\t<tr><td>Pagará   </td></tr>\n",
       "\t<tr><td>Pagará   </td></tr>\n",
       "\t<tr><td>Pagará   </td></tr>\n",
       "\t<tr><td>Pagará   </td></tr>\n",
       "\t<tr><td>No_pagará</td></tr>\n",
       "\t<tr><td>Pagará   </td></tr>\n",
       "\t<tr><td>Pagará   </td></tr>\n",
       "\t<tr><td>Pagará   </td></tr>\n",
       "\t<tr><td>Pagará   </td></tr>\n",
       "\t<tr><td>Pagará   </td></tr>\n",
       "\t<tr><td>Pagará   </td></tr>\n",
       "\t<tr><td>Pagará   </td></tr>\n",
       "\t<tr><td>Pagará   </td></tr>\n",
       "\t<tr><td>Pagará   </td></tr>\n",
       "\t<tr><td>No_pagará</td></tr>\n",
       "\t<tr><td>Pagará   </td></tr>\n",
       "\t<tr><td>Pagará   </td></tr>\n",
       "\t<tr><td>No_pagará</td></tr>\n",
       "\t<tr><td>Pagará   </td></tr>\n",
       "\t<tr><td>Pagará   </td></tr>\n",
       "\t<tr><td>Pagará   </td></tr>\n",
       "\t<tr><td>Pagará   </td></tr>\n",
       "\t<tr><td>Pagará   </td></tr>\n",
       "\t<tr><td>No_pagará</td></tr>\n",
       "\t<tr><td>...</td></tr>\n",
       "\t<tr><td>No_pagará</td></tr>\n",
       "\t<tr><td>Pagará   </td></tr>\n",
       "\t<tr><td>No_pagará</td></tr>\n",
       "\t<tr><td>Pagará   </td></tr>\n",
       "\t<tr><td>Pagará   </td></tr>\n",
       "\t<tr><td>Pagará   </td></tr>\n",
       "\t<tr><td>Pagará   </td></tr>\n",
       "\t<tr><td>Pagará   </td></tr>\n",
       "\t<tr><td>Pagará   </td></tr>\n",
       "\t<tr><td>Pagará   </td></tr>\n",
       "\t<tr><td>Pagará   </td></tr>\n",
       "\t<tr><td>Pagará   </td></tr>\n",
       "\t<tr><td>Pagará   </td></tr>\n",
       "\t<tr><td>Pagará   </td></tr>\n",
       "\t<tr><td>Pagará   </td></tr>\n",
       "\t<tr><td>Pagará   </td></tr>\n",
       "\t<tr><td>Pagará   </td></tr>\n",
       "\t<tr><td>No_pagará</td></tr>\n",
       "\t<tr><td>Pagará   </td></tr>\n",
       "\t<tr><td>Pagará   </td></tr>\n",
       "\t<tr><td>Pagará   </td></tr>\n",
       "\t<tr><td>Pagará   </td></tr>\n",
       "\t<tr><td>No_pagará</td></tr>\n",
       "\t<tr><td>Pagará   </td></tr>\n",
       "\t<tr><td>Pagará   </td></tr>\n",
       "\t<tr><td>Pagará   </td></tr>\n",
       "\t<tr><td>Pagará   </td></tr>\n",
       "\t<tr><td>Pagará   </td></tr>\n",
       "\t<tr><td>Pagará   </td></tr>\n",
       "\t<tr><td>Pagará   </td></tr>\n",
       "</tbody>\n",
       "</table>\n"
      ],
      "text/latex": [
       "\\begin{tabular}{r|l}\n",
       " pred\\_knn\\\\\n",
       "\\hline\n",
       "\t Pagará   \\\\\n",
       "\t Pagará   \\\\\n",
       "\t Pagará   \\\\\n",
       "\t Pagará   \\\\\n",
       "\t Pagará   \\\\\n",
       "\t Pagará   \\\\\n",
       "\t Pagará   \\\\\n",
       "\t Pagará   \\\\\n",
       "\t Pagará   \\\\\n",
       "\t Pagará   \\\\\n",
       "\t No\\_pagará\\\\\n",
       "\t Pagará   \\\\\n",
       "\t Pagará   \\\\\n",
       "\t Pagará   \\\\\n",
       "\t Pagará   \\\\\n",
       "\t Pagará   \\\\\n",
       "\t Pagará   \\\\\n",
       "\t Pagará   \\\\\n",
       "\t Pagará   \\\\\n",
       "\t Pagará   \\\\\n",
       "\t No\\_pagará\\\\\n",
       "\t Pagará   \\\\\n",
       "\t Pagará   \\\\\n",
       "\t No\\_pagará\\\\\n",
       "\t Pagará   \\\\\n",
       "\t Pagará   \\\\\n",
       "\t Pagará   \\\\\n",
       "\t Pagará   \\\\\n",
       "\t Pagará   \\\\\n",
       "\t No\\_pagará\\\\\n",
       "\t ...\\\\\n",
       "\t No\\_pagará\\\\\n",
       "\t Pagará   \\\\\n",
       "\t No\\_pagará\\\\\n",
       "\t Pagará   \\\\\n",
       "\t Pagará   \\\\\n",
       "\t Pagará   \\\\\n",
       "\t Pagará   \\\\\n",
       "\t Pagará   \\\\\n",
       "\t Pagará   \\\\\n",
       "\t Pagará   \\\\\n",
       "\t Pagará   \\\\\n",
       "\t Pagará   \\\\\n",
       "\t Pagará   \\\\\n",
       "\t Pagará   \\\\\n",
       "\t Pagará   \\\\\n",
       "\t Pagará   \\\\\n",
       "\t Pagará   \\\\\n",
       "\t No\\_pagará\\\\\n",
       "\t Pagará   \\\\\n",
       "\t Pagará   \\\\\n",
       "\t Pagará   \\\\\n",
       "\t Pagará   \\\\\n",
       "\t No\\_pagará\\\\\n",
       "\t Pagará   \\\\\n",
       "\t Pagará   \\\\\n",
       "\t Pagará   \\\\\n",
       "\t Pagará   \\\\\n",
       "\t Pagará   \\\\\n",
       "\t Pagará   \\\\\n",
       "\t Pagará   \\\\\n",
       "\\end{tabular}\n"
      ],
      "text/markdown": [
       "\n",
       "pred_knn | \n",
       "|---|---|---|---|---|---|---|---|---|---|---|---|---|---|---|---|---|---|---|---|---|---|---|---|---|---|---|---|---|---|---|---|---|---|---|---|---|---|---|---|---|---|---|---|---|---|---|---|---|---|---|---|---|---|---|---|---|---|---|---|---|\n",
       "| Pagará    | \n",
       "| Pagará    | \n",
       "| Pagará    | \n",
       "| Pagará    | \n",
       "| Pagará    | \n",
       "| Pagará    | \n",
       "| Pagará    | \n",
       "| Pagará    | \n",
       "| Pagará    | \n",
       "| Pagará    | \n",
       "| No_pagará | \n",
       "| Pagará    | \n",
       "| Pagará    | \n",
       "| Pagará    | \n",
       "| Pagará    | \n",
       "| Pagará    | \n",
       "| Pagará    | \n",
       "| Pagará    | \n",
       "| Pagará    | \n",
       "| Pagará    | \n",
       "| No_pagará | \n",
       "| Pagará    | \n",
       "| Pagará    | \n",
       "| No_pagará | \n",
       "| Pagará    | \n",
       "| Pagará    | \n",
       "| Pagará    | \n",
       "| Pagará    | \n",
       "| Pagará    | \n",
       "| No_pagará | \n",
       "| ... | \n",
       "| No_pagará | \n",
       "| Pagará    | \n",
       "| No_pagará | \n",
       "| Pagará    | \n",
       "| Pagará    | \n",
       "| Pagará    | \n",
       "| Pagará    | \n",
       "| Pagará    | \n",
       "| Pagará    | \n",
       "| Pagará    | \n",
       "| Pagará    | \n",
       "| Pagará    | \n",
       "| Pagará    | \n",
       "| Pagará    | \n",
       "| Pagará    | \n",
       "| Pagará    | \n",
       "| Pagará    | \n",
       "| No_pagará | \n",
       "| Pagará    | \n",
       "| Pagará    | \n",
       "| Pagará    | \n",
       "| Pagará    | \n",
       "| No_pagará | \n",
       "| Pagará    | \n",
       "| Pagará    | \n",
       "| Pagará    | \n",
       "| Pagará    | \n",
       "| Pagará    | \n",
       "| Pagará    | \n",
       "| Pagará    | \n",
       "\n",
       "\n"
      ],
      "text/plain": [
       "     pred_knn \n",
       "1    Pagará   \n",
       "2    Pagará   \n",
       "3    Pagará   \n",
       "4    Pagará   \n",
       "5    Pagará   \n",
       "6    Pagará   \n",
       "7    Pagará   \n",
       "8    Pagará   \n",
       "9    Pagará   \n",
       "10   Pagará   \n",
       "11   No_pagará\n",
       "12   Pagará   \n",
       "13   Pagará   \n",
       "14   Pagará   \n",
       "15   Pagará   \n",
       "16   Pagará   \n",
       "17   Pagará   \n",
       "18   Pagará   \n",
       "19   Pagará   \n",
       "20   Pagará   \n",
       "21   No_pagará\n",
       "22   Pagará   \n",
       "23   Pagará   \n",
       "24   No_pagará\n",
       "25   Pagará   \n",
       "26   Pagará   \n",
       "27   Pagará   \n",
       "28   Pagará   \n",
       "29   Pagará   \n",
       "30   No_pagará\n",
       "...  ...      \n",
       "8970 No_pagará\n",
       "8971 Pagará   \n",
       "8972 No_pagará\n",
       "8973 Pagará   \n",
       "8974 Pagará   \n",
       "8975 Pagará   \n",
       "8976 Pagará   \n",
       "8977 Pagará   \n",
       "8978 Pagará   \n",
       "8979 Pagará   \n",
       "8980 Pagará   \n",
       "8981 Pagará   \n",
       "8982 Pagará   \n",
       "8983 Pagará   \n",
       "8984 Pagará   \n",
       "8985 Pagará   \n",
       "8986 Pagará   \n",
       "8987 No_pagará\n",
       "8988 Pagará   \n",
       "8989 Pagará   \n",
       "8990 Pagará   \n",
       "8991 Pagará   \n",
       "8992 No_pagará\n",
       "8993 Pagará   \n",
       "8994 Pagará   \n",
       "8995 Pagará   \n",
       "8996 Pagará   \n",
       "8997 Pagará   \n",
       "8998 Pagará   \n",
       "8999 Pagará   "
      ]
     },
     "metadata": {},
     "output_type": "display_data"
    }
   ],
   "source": [
    "as.data.frame(pred_knn)"
   ]
  },
  {
   "cell_type": "code",
   "execution_count": 29,
   "metadata": {},
   "outputs": [
    {
     "data": {
      "text/plain": [
       "Confusion Matrix and Statistics\n",
       "\n",
       "           Reference\n",
       "Prediction  Pagará No_pagará\n",
       "  Pagará      6692      1358\n",
       "  No_pagará    317       632\n",
       "                                          \n",
       "               Accuracy : 0.8139          \n",
       "                 95% CI : (0.8057, 0.8219)\n",
       "    No Information Rate : 0.7789          \n",
       "    P-Value [Acc > NIR] : < 2.2e-16       \n",
       "                                          \n",
       "                  Kappa : 0.3351          \n",
       " Mcnemar's Test P-Value : < 2.2e-16       \n",
       "                                          \n",
       "            Sensitivity : 0.9548          \n",
       "            Specificity : 0.3176          \n",
       "         Pos Pred Value : 0.8313          \n",
       "         Neg Pred Value : 0.6660          \n",
       "             Prevalence : 0.7789          \n",
       "         Detection Rate : 0.7436          \n",
       "   Detection Prevalence : 0.8945          \n",
       "      Balanced Accuracy : 0.6362          \n",
       "                                          \n",
       "       'Positive' Class : Pagará          \n",
       "                                          "
      ]
     },
     "metadata": {},
     "output_type": "display_data"
    }
   ],
   "source": [
    "# Matriz de confusión y métricas\n",
    "confusionMatrix(pred_knn, testing$default )"
   ]
  },
  {
   "cell_type": "code",
   "execution_count": 30,
   "metadata": {
    "scrolled": false
   },
   "outputs": [
    {
     "data": {},
     "metadata": {},
     "output_type": "display_data"
    },
    {
     "data": {
      "image/png": "[encoded data removed]",
      "text/plain": [
       "plot without title"
      ]
     },
     "metadata": {},
     "output_type": "display_data"
    }
   ],
   "source": [
    "# Plot de los K vecinos y su precisión\n",
    "plot(knnFit)"
   ]
  },
  {
   "cell_type": "code",
   "execution_count": 31,
   "metadata": {},
   "outputs": [
    {
     "data": {
      "text/html": [
       "<table>\n",
       "<thead><tr><th></th><th scope=col>accuracy</th><th scope=col>error</th><th scope=col>sensitivity</th><th scope=col>specificity</th><th scope=col>posPredValue</th><th scope=col>negPredValue</th></tr></thead>\n",
       "<tbody>\n",
       "\t<tr><th scope=row>knn</th><td>0.8138682</td><td>0.1861318</td><td>0.9547724</td><td>0.3175879</td><td>0.8313043</td><td>0.6659642</td></tr>\n",
       "\t<tr><th scope=row>Decisión Tree</th><td>0.0000000</td><td>0.0000000</td><td>0.0000000</td><td>0.0000000</td><td>0.0000000</td><td>0.0000000</td></tr>\n",
       "\t<tr><th scope=row>Random Forest</th><td>0.0000000</td><td>0.0000000</td><td>0.0000000</td><td>0.0000000</td><td>0.0000000</td><td>0.0000000</td></tr>\n",
       "\t<tr><th scope=row>SVM</th><td>0.0000000</td><td>0.0000000</td><td>0.0000000</td><td>0.0000000</td><td>0.0000000</td><td>0.0000000</td></tr>\n",
       "</tbody>\n",
       "</table>\n"
      ],
      "text/latex": [
       "\\begin{tabular}{r|llllll}\n",
       "  & accuracy & error & sensitivity & specificity & posPredValue & negPredValue\\\\\n",
       "\\hline\n",
       "\tknn & 0.8138682 & 0.1861318 & 0.9547724 & 0.3175879 & 0.8313043 & 0.6659642\\\\\n",
       "\tDecisión Tree & 0.0000000 & 0.0000000 & 0.0000000 & 0.0000000 & 0.0000000 & 0.0000000\\\\\n",
       "\tRandom Forest & 0.0000000 & 0.0000000 & 0.0000000 & 0.0000000 & 0.0000000 & 0.0000000\\\\\n",
       "\tSVM & 0.0000000 & 0.0000000 & 0.0000000 & 0.0000000 & 0.0000000 & 0.0000000\\\\\n",
       "\\end{tabular}\n"
      ],
      "text/markdown": [
       "\n",
       "| <!--/--> | accuracy | error | sensitivity | specificity | posPredValue | negPredValue | \n",
       "|---|---|---|---|\n",
       "| knn | 0.8138682 | 0.1861318 | 0.9547724 | 0.3175879 | 0.8313043 | 0.6659642 | \n",
       "| Decisión Tree | 0.0000000 | 0.0000000 | 0.0000000 | 0.0000000 | 0.0000000 | 0.0000000 | \n",
       "| Random Forest | 0.0000000 | 0.0000000 | 0.0000000 | 0.0000000 | 0.0000000 | 0.0000000 | \n",
       "| SVM | 0.0000000 | 0.0000000 | 0.0000000 | 0.0000000 | 0.0000000 | 0.0000000 | \n",
       "\n",
       "\n"
      ],
      "text/plain": [
       "              accuracy  error     sensitivity specificity posPredValue\n",
       "knn           0.8138682 0.1861318 0.9547724   0.3175879   0.8313043   \n",
       "Decisión Tree 0.0000000 0.0000000 0.0000000   0.0000000   0.0000000   \n",
       "Random Forest 0.0000000 0.0000000 0.0000000   0.0000000   0.0000000   \n",
       "SVM           0.0000000 0.0000000 0.0000000   0.0000000   0.0000000   \n",
       "              negPredValue\n",
       "knn           0.6659642   \n",
       "Decisión Tree 0.0000000   \n",
       "Random Forest 0.0000000   \n",
       "SVM           0.0000000   "
      ]
     },
     "metadata": {},
     "output_type": "display_data"
    }
   ],
   "source": [
    "# Se ingresan los indicadores del modelo KNN a la matriz métricas\n",
    "\n",
    "dn = ingresar(pred_knn)\n",
    "metricas['knn', ] = dn\n",
    "metricas"
   ]
  },
  {
   "cell_type": "markdown",
   "metadata": {},
   "source": [
    "# 5.2) Método Decision tree"
   ]
  },
  {
   "cell_type": "code",
   "execution_count": 32,
   "metadata": {},
   "outputs": [
    {
     "data": {
      "text/plain": [
       "CART \n",
       "\n",
       "21001 samples\n",
       "   23 predictor\n",
       "    2 classes: 'Pagará', 'No_pagará' \n",
       "\n",
       "No pre-processing\n",
       "Resampling: Cross-Validated (10 fold) \n",
       "Summary of sample sizes: 18901, 18901, 18901, 18901, 18901, 18901, ... \n",
       "Resampling results across tuning parameters:\n",
       "\n",
       "  cp           Accuracy   Kappa    \n",
       "  0.001076195  0.8178657  0.3676575\n",
       "  0.001147941  0.8182466  0.3660424\n",
       "  0.001183814  0.8182466  0.3660424\n",
       "  0.001506672  0.8185798  0.3645300\n",
       "  0.001721911  0.8191036  0.3630082\n",
       "  0.002582867  0.8181036  0.3522489\n",
       "  0.004304778  0.8181989  0.3441939\n",
       "  0.009470512  0.8180084  0.3450377\n",
       "  0.011515282  0.8149132  0.3231777\n",
       "  0.154111063  0.7933915  0.1428786\n",
       "\n",
       "Accuracy was used to select the optimal model using the largest value.\n",
       "The final value used for the model was cp = 0.001721911."
      ]
     },
     "metadata": {},
     "output_type": "display_data"
    }
   ],
   "source": [
    "treeFit <- train(default ~ ., data = training, method = \"rpart\", trControl = ctrl, tuneLength = 10)\n",
    "\n",
    "# Salida del Decision tree ajustado\n",
    "treeFit"
   ]
  },
  {
   "cell_type": "code",
   "execution_count": 33,
   "metadata": {
    "collapsed": true
   },
   "outputs": [],
   "source": [
    "# Predicción del modelo\n",
    "\n",
    "pred_tree <- predict(treeFit, testing)"
   ]
  },
  {
   "cell_type": "code",
   "execution_count": 34,
   "metadata": {},
   "outputs": [
    {
     "data": {
      "text/plain": [
       "Confusion Matrix and Statistics\n",
       "\n",
       "           Reference\n",
       "Prediction  Pagará No_pagará\n",
       "  Pagará      6707      1325\n",
       "  No_pagará    302       665\n",
       "                                          \n",
       "               Accuracy : 0.8192          \n",
       "                 95% CI : (0.8111, 0.8271)\n",
       "    No Information Rate : 0.7789          \n",
       "    P-Value [Acc > NIR] : < 2.2e-16       \n",
       "                                          \n",
       "                  Kappa : 0.3567          \n",
       " Mcnemar's Test P-Value : < 2.2e-16       \n",
       "                                          \n",
       "            Sensitivity : 0.9569          \n",
       "            Specificity : 0.3342          \n",
       "         Pos Pred Value : 0.8350          \n",
       "         Neg Pred Value : 0.6877          \n",
       "             Prevalence : 0.7789          \n",
       "         Detection Rate : 0.7453          \n",
       "   Detection Prevalence : 0.8925          \n",
       "      Balanced Accuracy : 0.6455          \n",
       "                                          \n",
       "       'Positive' Class : Pagará          \n",
       "                                          "
      ]
     },
     "metadata": {},
     "output_type": "display_data"
    }
   ],
   "source": [
    "# Matrix de confusión y métricas\n",
    "\n",
    "confusionMatrix(pred_tree, testing$default )"
   ]
  },
  {
   "cell_type": "code",
   "execution_count": 35,
   "metadata": {
    "scrolled": false
   },
   "outputs": [
    {
     "data": {},
     "metadata": {},
     "output_type": "display_data"
    },
    {
     "data": {
      "image/png": "[encoded data removed]",
      "text/plain": [
       "plot without title"
      ]
     },
     "metadata": {},
     "output_type": "display_data"
    }
   ],
   "source": [
    "# Plot de los árboles de decisión y su precisión\n",
    "\n",
    "plot(treeFit)"
   ]
  },
  {
   "cell_type": "code",
   "execution_count": 36,
   "metadata": {},
   "outputs": [
    {
     "data": {
      "text/html": [
       "<table>\n",
       "<thead><tr><th></th><th scope=col>accuracy</th><th scope=col>error</th><th scope=col>sensitivity</th><th scope=col>specificity</th><th scope=col>posPredValue</th><th scope=col>negPredValue</th></tr></thead>\n",
       "<tbody>\n",
       "\t<tr><th scope=row>knn</th><td>0.8138682</td><td>0.1861318</td><td>0.9547724</td><td>0.3175879</td><td>0.8313043</td><td>0.6659642</td></tr>\n",
       "\t<tr><th scope=row>Decisión Tree</th><td>0.8192021</td><td>0.1807979</td><td>0.9569125</td><td>0.3341709</td><td>0.8350349</td><td>0.6876939</td></tr>\n",
       "\t<tr><th scope=row>Random Forest</th><td>0.0000000</td><td>0.0000000</td><td>0.0000000</td><td>0.0000000</td><td>0.0000000</td><td>0.0000000</td></tr>\n",
       "\t<tr><th scope=row>SVM</th><td>0.0000000</td><td>0.0000000</td><td>0.0000000</td><td>0.0000000</td><td>0.0000000</td><td>0.0000000</td></tr>\n",
       "</tbody>\n",
       "</table>\n"
      ],
      "text/latex": [
       "\\begin{tabular}{r|llllll}\n",
       "  & accuracy & error & sensitivity & specificity & posPredValue & negPredValue\\\\\n",
       "\\hline\n",
       "\tknn & 0.8138682 & 0.1861318 & 0.9547724 & 0.3175879 & 0.8313043 & 0.6659642\\\\\n",
       "\tDecisión Tree & 0.8192021 & 0.1807979 & 0.9569125 & 0.3341709 & 0.8350349 & 0.6876939\\\\\n",
       "\tRandom Forest & 0.0000000 & 0.0000000 & 0.0000000 & 0.0000000 & 0.0000000 & 0.0000000\\\\\n",
       "\tSVM & 0.0000000 & 0.0000000 & 0.0000000 & 0.0000000 & 0.0000000 & 0.0000000\\\\\n",
       "\\end{tabular}\n"
      ],
      "text/markdown": [
       "\n",
       "| <!--/--> | accuracy | error | sensitivity | specificity | posPredValue | negPredValue | \n",
       "|---|---|---|---|\n",
       "| knn | 0.8138682 | 0.1861318 | 0.9547724 | 0.3175879 | 0.8313043 | 0.6659642 | \n",
       "| Decisión Tree | 0.8192021 | 0.1807979 | 0.9569125 | 0.3341709 | 0.8350349 | 0.6876939 | \n",
       "| Random Forest | 0.0000000 | 0.0000000 | 0.0000000 | 0.0000000 | 0.0000000 | 0.0000000 | \n",
       "| SVM | 0.0000000 | 0.0000000 | 0.0000000 | 0.0000000 | 0.0000000 | 0.0000000 | \n",
       "\n",
       "\n"
      ],
      "text/plain": [
       "              accuracy  error     sensitivity specificity posPredValue\n",
       "knn           0.8138682 0.1861318 0.9547724   0.3175879   0.8313043   \n",
       "Decisión Tree 0.8192021 0.1807979 0.9569125   0.3341709   0.8350349   \n",
       "Random Forest 0.0000000 0.0000000 0.0000000   0.0000000   0.0000000   \n",
       "SVM           0.0000000 0.0000000 0.0000000   0.0000000   0.0000000   \n",
       "              negPredValue\n",
       "knn           0.6659642   \n",
       "Decisión Tree 0.6876939   \n",
       "Random Forest 0.0000000   \n",
       "SVM           0.0000000   "
      ]
     },
     "metadata": {},
     "output_type": "display_data"
    }
   ],
   "source": [
    "# Se ingresan las metricas de los árboles de decisión a la matriz métricas\n",
    "\n",
    "dn = ingresar(pred_tree)\n",
    "metricas['Decisión Tree', ] = dn\n",
    "metricas"
   ]
  },
  {
   "cell_type": "markdown",
   "metadata": {},
   "source": [
    "# 5.3) Método Random Forest"
   ]
  },
  {
   "cell_type": "code",
   "execution_count": 37,
   "metadata": {},
   "outputs": [
    {
     "data": {
      "text/plain": [
       "CART \n",
       "\n",
       "21001 samples\n",
       "   23 predictor\n",
       "    2 classes: 'Pagará', 'No_pagará' \n",
       "\n",
       "No pre-processing\n",
       "Resampling: Cross-Validated (10 fold) \n",
       "Summary of sample sizes: 18901, 18901, 18900, 18902, 18902, 18900, ... \n",
       "Resampling results across tuning parameters:\n",
       "\n",
       "  cp           Accuracy   Kappa    \n",
       "  0.001076195  0.8171514  0.3631965\n",
       "  0.001147941  0.8172465  0.3639071\n",
       "  0.001183814  0.8172465  0.3639071\n",
       "  0.001506672  0.8182463  0.3613426\n",
       "  0.001721911  0.8181986  0.3614523\n",
       "  0.002582867  0.8189128  0.3575291\n",
       "  0.004304778  0.8181516  0.3447427\n",
       "  0.009470512  0.8181516  0.3467527\n",
       "  0.011515282  0.8154847  0.3269621\n",
       "  0.154111063  0.7975324  0.1810645\n",
       "\n",
       "Accuracy was used to select the optimal model using the largest value.\n",
       "The final value used for the model was cp = 0.002582867."
      ]
     },
     "metadata": {},
     "output_type": "display_data"
    }
   ],
   "source": [
    "rfFit <- train(default ~ ., data = training, method = \"rpart\", trControl = ctrl, tuneLength = 10)\n",
    "\n",
    "# Salida del modelo Random Forest ajustado\n",
    "rfFit"
   ]
  },
  {
   "cell_type": "code",
   "execution_count": 38,
   "metadata": {
    "collapsed": true
   },
   "outputs": [],
   "source": [
    "# Predicción del modelo\n",
    "\n",
    "pred_rf <- predict(rfFit, testing)"
   ]
  },
  {
   "cell_type": "code",
   "execution_count": 39,
   "metadata": {},
   "outputs": [
    {
     "data": {
      "text/plain": [
       "Confusion Matrix and Statistics\n",
       "\n",
       "           Reference\n",
       "Prediction  Pagará No_pagará\n",
       "  Pagará      6742      1366\n",
       "  No_pagará    267       624\n",
       "                                          \n",
       "               Accuracy : 0.8185          \n",
       "                 95% CI : (0.8104, 0.8264)\n",
       "    No Information Rate : 0.7789          \n",
       "    P-Value [Acc > NIR] : < 2.2e-16       \n",
       "                                          \n",
       "                  Kappa : 0.3434          \n",
       " Mcnemar's Test P-Value : < 2.2e-16       \n",
       "                                          \n",
       "            Sensitivity : 0.9619          \n",
       "            Specificity : 0.3136          \n",
       "         Pos Pred Value : 0.8315          \n",
       "         Neg Pred Value : 0.7003          \n",
       "             Prevalence : 0.7789          \n",
       "         Detection Rate : 0.7492          \n",
       "   Detection Prevalence : 0.9010          \n",
       "      Balanced Accuracy : 0.6377          \n",
       "                                          \n",
       "       'Positive' Class : Pagará          \n",
       "                                          "
      ]
     },
     "metadata": {},
     "output_type": "display_data"
    }
   ],
   "source": [
    "# Matrix de confusión y métricas\n",
    "\n",
    "confusionMatrix(pred_rf, testing$default )"
   ]
  },
  {
   "cell_type": "code",
   "execution_count": 40,
   "metadata": {},
   "outputs": [
    {
     "data": {},
     "metadata": {},
     "output_type": "display_data"
    },
    {
     "data": {
      "image/png": "[encoded data removed]",
      "text/plain": [
       "plot without title"
      ]
     },
     "metadata": {},
     "output_type": "display_data"
    }
   ],
   "source": [
    "# Plot de los random forest y su precisión\n",
    "plot(rfFit)"
   ]
  },
  {
   "cell_type": "code",
   "execution_count": 41,
   "metadata": {},
   "outputs": [
    {
     "data": {
      "text/html": [
       "<table>\n",
       "<thead><tr><th></th><th scope=col>accuracy</th><th scope=col>error</th><th scope=col>sensitivity</th><th scope=col>specificity</th><th scope=col>posPredValue</th><th scope=col>negPredValue</th></tr></thead>\n",
       "<tbody>\n",
       "\t<tr><th scope=row>knn</th><td>0.8138682</td><td>0.1861318</td><td>0.9547724</td><td>0.3175879</td><td>0.8313043</td><td>0.6659642</td></tr>\n",
       "\t<tr><th scope=row>Decisión Tree</th><td>0.8192021</td><td>0.1807979</td><td>0.9569125</td><td>0.3341709</td><td>0.8350349</td><td>0.6876939</td></tr>\n",
       "\t<tr><th scope=row>Random Forest</th><td>0.8185354</td><td>0.1814646</td><td>0.9619061</td><td>0.3135678</td><td>0.8315244</td><td>0.7003367</td></tr>\n",
       "\t<tr><th scope=row>SVM</th><td>0.0000000</td><td>0.0000000</td><td>0.0000000</td><td>0.0000000</td><td>0.0000000</td><td>0.0000000</td></tr>\n",
       "</tbody>\n",
       "</table>\n"
      ],
      "text/latex": [
       "\\begin{tabular}{r|llllll}\n",
       "  & accuracy & error & sensitivity & specificity & posPredValue & negPredValue\\\\\n",
       "\\hline\n",
       "\tknn & 0.8138682 & 0.1861318 & 0.9547724 & 0.3175879 & 0.8313043 & 0.6659642\\\\\n",
       "\tDecisión Tree & 0.8192021 & 0.1807979 & 0.9569125 & 0.3341709 & 0.8350349 & 0.6876939\\\\\n",
       "\tRandom Forest & 0.8185354 & 0.1814646 & 0.9619061 & 0.3135678 & 0.8315244 & 0.7003367\\\\\n",
       "\tSVM & 0.0000000 & 0.0000000 & 0.0000000 & 0.0000000 & 0.0000000 & 0.0000000\\\\\n",
       "\\end{tabular}\n"
      ],
      "text/markdown": [
       "\n",
       "| <!--/--> | accuracy | error | sensitivity | specificity | posPredValue | negPredValue | \n",
       "|---|---|---|---|\n",
       "| knn | 0.8138682 | 0.1861318 | 0.9547724 | 0.3175879 | 0.8313043 | 0.6659642 | \n",
       "| Decisión Tree | 0.8192021 | 0.1807979 | 0.9569125 | 0.3341709 | 0.8350349 | 0.6876939 | \n",
       "| Random Forest | 0.8185354 | 0.1814646 | 0.9619061 | 0.3135678 | 0.8315244 | 0.7003367 | \n",
       "| SVM | 0.0000000 | 0.0000000 | 0.0000000 | 0.0000000 | 0.0000000 | 0.0000000 | \n",
       "\n",
       "\n"
      ],
      "text/plain": [
       "              accuracy  error     sensitivity specificity posPredValue\n",
       "knn           0.8138682 0.1861318 0.9547724   0.3175879   0.8313043   \n",
       "Decisión Tree 0.8192021 0.1807979 0.9569125   0.3341709   0.8350349   \n",
       "Random Forest 0.8185354 0.1814646 0.9619061   0.3135678   0.8315244   \n",
       "SVM           0.0000000 0.0000000 0.0000000   0.0000000   0.0000000   \n",
       "              negPredValue\n",
       "knn           0.6659642   \n",
       "Decisión Tree 0.6876939   \n",
       "Random Forest 0.7003367   \n",
       "SVM           0.0000000   "
      ]
     },
     "metadata": {},
     "output_type": "display_data"
    }
   ],
   "source": [
    "#ingresar metricas de Random Forest a la matrix metricas\n",
    "\n",
    "dn = ingresar(pred_rf)\n",
    "metricas['Random Forest', ] = dn\n",
    "metricas"
   ]
  },
  {
   "cell_type": "markdown",
   "metadata": {},
   "source": [
    "# 5.4) Método SVM"
   ]
  },
  {
   "cell_type": "code",
   "execution_count": 47,
   "metadata": {},
   "outputs": [
    {
     "name": "stderr",
     "output_type": "stream",
     "text": [
      "Warning message in .local(x, ...):\n",
      "\"Variable(s) `' constant. Cannot scale data.\""
     ]
    },
    {
     "data": {
      "text/plain": [
       "Support Vector Machines with Linear Kernel \n",
       "\n",
       "21001 samples\n",
       "   23 predictor\n",
       "    2 classes: 'Pagará', 'No_pagará' \n",
       "\n",
       "No pre-processing\n",
       "Resampling: Cross-Validated (10 fold) \n",
       "Summary of sample sizes: 18902, 18900, 18900, 18900, 18900, 18902, ... \n",
       "Resampling results:\n",
       "\n",
       "  Accuracy   Kappa   \n",
       "  0.8196747  0.354842\n",
       "\n",
       "Tuning parameter 'C' was held constant at a value of 1"
      ]
     },
     "metadata": {},
     "output_type": "display_data"
    }
   ],
   "source": [
    "\n",
    "svmFit <- train(default ~ ., data = training, method = \"svmLinear\", trControl = ctrl, tuneLength = 3)\n",
    "\n",
    "# Salida del modelo SVM ajustado\n",
    "svmFit"
   ]
  },
  {
   "cell_type": "code",
   "execution_count": 48,
   "metadata": {
    "collapsed": true
   },
   "outputs": [],
   "source": [
    "# Predicción del modelo\n",
    "\n",
    "pred_svm <- predict(svmFit, testing)"
   ]
  },
  {
   "cell_type": "code",
   "execution_count": 49,
   "metadata": {},
   "outputs": [
    {
     "data": {
      "text/plain": [
       "Confusion Matrix and Statistics\n",
       "\n",
       "           Reference\n",
       "Prediction  Pagará No_pagará\n",
       "  Pagará      6730      1357\n",
       "  No_pagará    279       633\n",
       "                                          \n",
       "               Accuracy : 0.8182          \n",
       "                 95% CI : (0.8101, 0.8261)\n",
       "    No Information Rate : 0.7789          \n",
       "    P-Value [Acc > NIR] : < 2.2e-16       \n",
       "                                          \n",
       "                  Kappa : 0.3452          \n",
       " Mcnemar's Test P-Value : < 2.2e-16       \n",
       "                                          \n",
       "            Sensitivity : 0.9602          \n",
       "            Specificity : 0.3181          \n",
       "         Pos Pred Value : 0.8322          \n",
       "         Neg Pred Value : 0.6941          \n",
       "             Prevalence : 0.7789          \n",
       "         Detection Rate : 0.7479          \n",
       "   Detection Prevalence : 0.8987          \n",
       "      Balanced Accuracy : 0.6391          \n",
       "                                          \n",
       "       'Positive' Class : Pagará          \n",
       "                                          "
      ]
     },
     "metadata": {},
     "output_type": "display_data"
    }
   ],
   "source": [
    "# Matrix de confusión y métricas\n",
    "\n",
    "confusionMatrix(pred_svm, testing$default )"
   ]
  },
  {
   "cell_type": "code",
   "execution_count": 46,
   "metadata": {},
   "outputs": [
    {
     "data": {
      "text/html": [
       "<table>\n",
       "<thead><tr><th></th><th scope=col>accuracy</th><th scope=col>error</th><th scope=col>sensitivity</th><th scope=col>specificity</th><th scope=col>posPredValue</th><th scope=col>negPredValue</th></tr></thead>\n",
       "<tbody>\n",
       "\t<tr><th scope=row>knn</th><td>0.8138682</td><td>0.1861318</td><td>0.9547724</td><td>0.3175879</td><td>0.8313043</td><td>0.6659642</td></tr>\n",
       "\t<tr><th scope=row>Decisión Tree</th><td>0.8192021</td><td>0.1807979</td><td>0.9569125</td><td>0.3341709</td><td>0.8350349</td><td>0.6876939</td></tr>\n",
       "\t<tr><th scope=row>Random Forest</th><td>0.8185354</td><td>0.1814646</td><td>0.9619061</td><td>0.3135678</td><td>0.8315244</td><td>0.7003367</td></tr>\n",
       "\t<tr><th scope=row>SVM</th><td>0.8182020</td><td>0.1817980</td><td>0.9601940</td><td>0.3180905</td><td>0.8321998</td><td>0.6940789</td></tr>\n",
       "</tbody>\n",
       "</table>\n"
      ],
      "text/latex": [
       "\\begin{tabular}{r|llllll}\n",
       "  & accuracy & error & sensitivity & specificity & posPredValue & negPredValue\\\\\n",
       "\\hline\n",
       "\tknn & 0.8138682 & 0.1861318 & 0.9547724 & 0.3175879 & 0.8313043 & 0.6659642\\\\\n",
       "\tDecisión Tree & 0.8192021 & 0.1807979 & 0.9569125 & 0.3341709 & 0.8350349 & 0.6876939\\\\\n",
       "\tRandom Forest & 0.8185354 & 0.1814646 & 0.9619061 & 0.3135678 & 0.8315244 & 0.7003367\\\\\n",
       "\tSVM & 0.8182020 & 0.1817980 & 0.9601940 & 0.3180905 & 0.8321998 & 0.6940789\\\\\n",
       "\\end{tabular}\n"
      ],
      "text/markdown": [
       "\n",
       "| <!--/--> | accuracy | error | sensitivity | specificity | posPredValue | negPredValue | \n",
       "|---|---|---|---|\n",
       "| knn | 0.8138682 | 0.1861318 | 0.9547724 | 0.3175879 | 0.8313043 | 0.6659642 | \n",
       "| Decisión Tree | 0.8192021 | 0.1807979 | 0.9569125 | 0.3341709 | 0.8350349 | 0.6876939 | \n",
       "| Random Forest | 0.8185354 | 0.1814646 | 0.9619061 | 0.3135678 | 0.8315244 | 0.7003367 | \n",
       "| SVM | 0.8182020 | 0.1817980 | 0.9601940 | 0.3180905 | 0.8321998 | 0.6940789 | \n",
       "\n",
       "\n"
      ],
      "text/plain": [
       "              accuracy  error     sensitivity specificity posPredValue\n",
       "knn           0.8138682 0.1861318 0.9547724   0.3175879   0.8313043   \n",
       "Decisión Tree 0.8192021 0.1807979 0.9569125   0.3341709   0.8350349   \n",
       "Random Forest 0.8185354 0.1814646 0.9619061   0.3135678   0.8315244   \n",
       "SVM           0.8182020 0.1817980 0.9601940   0.3180905   0.8321998   \n",
       "              negPredValue\n",
       "knn           0.6659642   \n",
       "Decisión Tree 0.6876939   \n",
       "Random Forest 0.7003367   \n",
       "SVM           0.6940789   "
      ]
     },
     "metadata": {},
     "output_type": "display_data"
    }
   ],
   "source": [
    "#ingresar metricas de SVM a la matrix metricas\n",
    "\n",
    "dn = ingresar(pred_svm)\n",
    "metricas['SVM', ] = dn\n",
    "metricas"
   ]
  },
  {
   "cell_type": "markdown",
   "metadata": {},
   "source": [
    "# Método Decision Tree con diferentes hiperparámetros"
   ]
  },
  {
   "cell_type": "code",
   "execution_count": 52,
   "metadata": {
    "collapsed": true
   },
   "outputs": [],
   "source": [
    "train.control <- trainControl(method = \"cv\",\n",
    "                              number = 1,\n",
    "                              p= 0.7,\n",
    "                              search = \"grid\")\n",
    "\n",
    "tune.grid <- expand.grid(mtry = c(10,20))"
   ]
  },
  {
   "cell_type": "code",
   "execution_count": 54,
   "metadata": {},
   "outputs": [
    {
     "data": {
      "text/plain": [
       "Random Forest \n",
       "\n",
       "21001 samples\n",
       "   23 predictor\n",
       "    2 classes: 'Pagará', 'No_pagará' \n",
       "\n",
       "No pre-processing\n",
       "Resampling: Cross-Validated (10 fold) \n",
       "Summary of sample sizes: 18901, 18902, 18901, 18900, 18902, 18901, ... \n",
       "Resampling results across tuning parameters:\n",
       "\n",
       "  mtry  Accuracy   Kappa    \n",
       "  10    0.8178188  0.3659865\n",
       "  20    0.8171046  0.3695245\n",
       "\n",
       "Accuracy was used to select the optimal model using the largest value.\n",
       "The final value used for the model was mtry = 10."
      ]
     },
     "metadata": {},
     "output_type": "display_data"
    }
   ],
   "source": [
    "set.seed(300)\n",
    "rfFit_1 <- train(default ~ ., data = training, method = \"rf\", trControl = ctrl, tuneGrid=tune.grid)\n",
    "\n",
    "# Salida del Decision Tree ajustado\n",
    "rfFit_1"
   ]
  },
  {
   "cell_type": "code",
   "execution_count": 56,
   "metadata": {
    "collapsed": true
   },
   "outputs": [],
   "source": [
    "# Predicción del modelo\n",
    "pred_tree <- predict(treeFit, testing)"
   ]
  },
  {
   "cell_type": "code",
   "execution_count": 57,
   "metadata": {},
   "outputs": [
    {
     "data": {
      "text/plain": [
       "Confusion Matrix and Statistics\n",
       "\n",
       "           Reference\n",
       "Prediction  Pagará No_pagará\n",
       "  Pagará      6707      1325\n",
       "  No_pagará    302       665\n",
       "                                          \n",
       "               Accuracy : 0.8192          \n",
       "                 95% CI : (0.8111, 0.8271)\n",
       "    No Information Rate : 0.7789          \n",
       "    P-Value [Acc > NIR] : < 2.2e-16       \n",
       "                                          \n",
       "                  Kappa : 0.3567          \n",
       " Mcnemar's Test P-Value : < 2.2e-16       \n",
       "                                          \n",
       "            Sensitivity : 0.9569          \n",
       "            Specificity : 0.3342          \n",
       "         Pos Pred Value : 0.8350          \n",
       "         Neg Pred Value : 0.6877          \n",
       "             Prevalence : 0.7789          \n",
       "         Detection Rate : 0.7453          \n",
       "   Detection Prevalence : 0.8925          \n",
       "      Balanced Accuracy : 0.6455          \n",
       "                                          \n",
       "       'Positive' Class : Pagará          \n",
       "                                          "
      ]
     },
     "metadata": {},
     "output_type": "display_data"
    }
   ],
   "source": [
    "# Matrix de confusión y métricas\n",
    "confusionMatrix(pred_tree, testing$default )"
   ]
  },
  {
   "cell_type": "code",
   "execution_count": 58,
   "metadata": {
    "scrolled": false
   },
   "outputs": [
    {
     "data": {},
     "metadata": {},
     "output_type": "display_data"
    },
    {
     "data": {
      "image/png": "[encoded data removed]",
      "text/plain": [
       "plot without title"
      ]
     },
     "metadata": {},
     "output_type": "display_data"
    }
   ],
   "source": [
    "# Plot de los arboles de decisión y su precisión\n",
    "plot(treeFit)"
   ]
  },
  {
   "cell_type": "markdown",
   "metadata": {},
   "source": [
    "########################################################################################################################"
   ]
  },
  {
   "cell_type": "markdown",
   "metadata": {
    "collapsed": true
   },
   "source": [
    "# 6) Evaluación"
   ]
  },
  {
   "cell_type": "code",
   "execution_count": 60,
   "metadata": {},
   "outputs": [
    {
     "data": {
      "text/html": [
       "<table>\n",
       "<thead><tr><th></th><th scope=col>accuracy</th><th scope=col>error</th><th scope=col>sensitivity</th><th scope=col>specificity</th><th scope=col>posPredValue</th><th scope=col>negPredValue</th></tr></thead>\n",
       "<tbody>\n",
       "\t<tr><th scope=row>knn</th><td>0.8138682</td><td>0.1861318</td><td>0.9547724</td><td>0.3175879</td><td>0.8313043</td><td>0.6659642</td></tr>\n",
       "\t<tr><th scope=row>Decisión Tree</th><td>0.8192021</td><td>0.1807979</td><td>0.9569125</td><td>0.3341709</td><td>0.8350349</td><td>0.6876939</td></tr>\n",
       "\t<tr><th scope=row>Random Forest</th><td>0.8185354</td><td>0.1814646</td><td>0.9619061</td><td>0.3135678</td><td>0.8315244</td><td>0.7003367</td></tr>\n",
       "\t<tr><th scope=row>SVM</th><td>0.8182020</td><td>0.1817980</td><td>0.9601940</td><td>0.3180905</td><td>0.8321998</td><td>0.6940789</td></tr>\n",
       "</tbody>\n",
       "</table>\n"
      ],
      "text/latex": [
       "\\begin{tabular}{r|llllll}\n",
       "  & accuracy & error & sensitivity & specificity & posPredValue & negPredValue\\\\\n",
       "\\hline\n",
       "\tknn & 0.8138682 & 0.1861318 & 0.9547724 & 0.3175879 & 0.8313043 & 0.6659642\\\\\n",
       "\tDecisión Tree & 0.8192021 & 0.1807979 & 0.9569125 & 0.3341709 & 0.8350349 & 0.6876939\\\\\n",
       "\tRandom Forest & 0.8185354 & 0.1814646 & 0.9619061 & 0.3135678 & 0.8315244 & 0.7003367\\\\\n",
       "\tSVM & 0.8182020 & 0.1817980 & 0.9601940 & 0.3180905 & 0.8321998 & 0.6940789\\\\\n",
       "\\end{tabular}\n"
      ],
      "text/markdown": [
       "\n",
       "| <!--/--> | accuracy | error | sensitivity | specificity | posPredValue | negPredValue | \n",
       "|---|---|---|---|\n",
       "| knn | 0.8138682 | 0.1861318 | 0.9547724 | 0.3175879 | 0.8313043 | 0.6659642 | \n",
       "| Decisión Tree | 0.8192021 | 0.1807979 | 0.9569125 | 0.3341709 | 0.8350349 | 0.6876939 | \n",
       "| Random Forest | 0.8185354 | 0.1814646 | 0.9619061 | 0.3135678 | 0.8315244 | 0.7003367 | \n",
       "| SVM | 0.8182020 | 0.1817980 | 0.9601940 | 0.3180905 | 0.8321998 | 0.6940789 | \n",
       "\n",
       "\n"
      ],
      "text/plain": [
       "              accuracy  error     sensitivity specificity posPredValue\n",
       "knn           0.8138682 0.1861318 0.9547724   0.3175879   0.8313043   \n",
       "Decisión Tree 0.8192021 0.1807979 0.9569125   0.3341709   0.8350349   \n",
       "Random Forest 0.8185354 0.1814646 0.9619061   0.3135678   0.8315244   \n",
       "SVM           0.8182020 0.1817980 0.9601940   0.3180905   0.8321998   \n",
       "              negPredValue\n",
       "knn           0.6659642   \n",
       "Decisión Tree 0.6876939   \n",
       "Random Forest 0.7003367   \n",
       "SVM           0.6940789   "
      ]
     },
     "metadata": {},
     "output_type": "display_data"
    }
   ],
   "source": [
    "metricas"
   ]
  },
  {
   "cell_type": "markdown",
   "metadata": {
    "collapsed": true
   },
   "source": [
    "A lo largo del documento se ha venido presentando el análisis, la evaluación y las conclusiones de los cálculos realizados. A nivel general se puede definir que:\n",
    "\n",
    "- La mayoría de las técnicas muestran una precisión similar que ronda el 81%, pero el metodo de \"Decisión Tree\" fue el que mejor precisión obtuvo con un 81,92%.\n",
    "\n",
    "- Observando los datos de la tabla anterior, se puede ver por medio de la columna Specificity que los modelos son buenos para clasificar a los clientes como true positive, es decir, que clasifica que van a pagar cuando en realidad van a pagar, mientras que en la columna specificity se ve que los modelos son muy debiles para clasificar los false positive o personas que no van a pagar cuando realmente no pagarán, Esto se  puede deber a un problema de Balanceo en las proporciones de las categorias de la variable clasificadora.\n",
    "\n",
    "- Los datos tienen un desbalanceo, el cual es notorio en los resultados arrojados por las matrices de confusión, en donde se evidencia que los modelos son buenos para predecir que un cliente va a pagar cuando realmente lo hara, pero son debiles para predecir que un cliente va a pagar cuando realmente no lo hara. Las posibles soluciones a este problema serian utilizar técnicas de balanceo, en donde se eliminana registros o se agregan duplicados según sea el caso que más convenga."
   ]
  },
  {
   "cell_type": "code",
   "execution_count": null,
   "metadata": {
    "collapsed": true
   },
   "outputs": [],
   "source": []
  }
 ],
 "metadata": {
  "kernelspec": {
   "display_name": "R",
   "language": "R",
   "name": "ir"
  },
  "language_info": {
   "codemirror_mode": "r",
   "file_extension": ".r",
   "mimetype": "text/x-r-source",
   "name": "R",
   "pygments_lexer": "r",
   "version": "3.4.4"
  }
 },
 "nbformat": 4,
 "nbformat_minor": 2
}
